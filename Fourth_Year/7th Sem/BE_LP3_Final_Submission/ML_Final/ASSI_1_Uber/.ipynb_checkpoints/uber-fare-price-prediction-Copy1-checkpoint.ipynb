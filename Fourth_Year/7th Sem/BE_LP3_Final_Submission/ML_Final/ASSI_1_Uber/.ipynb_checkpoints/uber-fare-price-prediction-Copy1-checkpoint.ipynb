{
 "cells": [
  {
   "cell_type": "markdown",
   "metadata": {},
   "source": [
    "# ASSIGNEMNT-1\n",
    "\n",
    "Predict the price of the Uber ride from a given pickup point to the agreed drop-off location.\n",
    "Perform following tasks:\n",
    "1. Pre-process the dataset.\n",
    "2. Identify outliers.\n",
    "3. Check the correlation.\n",
    "4. Implement linear regression and random forest regression models.\n",
    "5. Evaluate the models and compare their respective scores like R2, RMSE, etc.\n",
    "\n",
    "Dataset link: https://www.kaggle.com/datasets/yasserh/uber-fares-dataset\n",
    "\n",
    "**NAME: Kaustubh Kabra<BR>\n",
    "BE COMP 1<BR>\n",
    "ROLL NO: 37**"
   ]
  },
  {
   "cell_type": "markdown",
   "metadata": {},
   "source": [
    "# **Importing the Basic Libraries**"
   ]
  },
  {
   "cell_type": "code",
   "execution_count": 1,
   "metadata": {
    "execution": {
     "iopub.execute_input": "2022-10-07T18:27:23.815807Z",
     "iopub.status.busy": "2022-10-07T18:27:23.815509Z",
     "iopub.status.idle": "2022-10-07T18:27:23.819311Z",
     "shell.execute_reply": "2022-10-07T18:27:23.818610Z",
     "shell.execute_reply.started": "2022-10-07T18:27:23.815768Z"
    }
   },
   "outputs": [],
   "source": [
    "# import libraries\n",
    "import pandas as pd\n",
    "import numpy as np\n",
    "import seaborn as sns\n",
    "import matplotlib.pyplot as plt\n",
    "import pylab\n",
    "import statsmodels.api as sm\n",
    "from sklearn.model_selection import train_test_split\n",
    "from sklearn import metrics\n",
    "import math\n",
    "from statsmodels.tools.eval_measures import rmse\n",
    "\n",
    "from sklearn.ensemble import RandomForestRegressor\n",
    "from sklearn import metrics\n",
    "from sklearn import preprocessing\n",
    "from sklearn.model_selection import GridSearchCV"
   ]
  },
  {
   "cell_type": "markdown",
   "metadata": {},
   "source": [
    "# **Loading the Dataset**\n",
    "First we load the dataset and find out the number of columns, rows, NULL values, etc."
   ]
  },
  {
   "cell_type": "markdown",
   "metadata": {},
   "source": [
    "1. Data is from 2009 to 2015\n",
    "2. 200,000 Entries"
   ]
  },
  {
   "cell_type": "code",
   "execution_count": 2,
   "metadata": {
    "execution": {
     "iopub.execute_input": "2022-10-07T18:27:23.827119Z",
     "iopub.status.busy": "2022-10-07T18:27:23.826879Z",
     "iopub.status.idle": "2022-10-07T18:27:24.552278Z",
     "shell.execute_reply": "2022-10-07T18:27:24.551039Z",
     "shell.execute_reply.started": "2022-10-07T18:27:23.827094Z"
    }
   },
   "outputs": [
    {
     "data": {
      "text/html": [
       "<div>\n",
       "<style scoped>\n",
       "    .dataframe tbody tr th:only-of-type {\n",
       "        vertical-align: middle;\n",
       "    }\n",
       "\n",
       "    .dataframe tbody tr th {\n",
       "        vertical-align: top;\n",
       "    }\n",
       "\n",
       "    .dataframe thead th {\n",
       "        text-align: right;\n",
       "    }\n",
       "</style>\n",
       "<table border=\"1\" class=\"dataframe\">\n",
       "  <thead>\n",
       "    <tr style=\"text-align: right;\">\n",
       "      <th></th>\n",
       "      <th>Unnamed: 0</th>\n",
       "      <th>key</th>\n",
       "      <th>fare_amount</th>\n",
       "      <th>pickup_datetime</th>\n",
       "      <th>pickup_longitude</th>\n",
       "      <th>pickup_latitude</th>\n",
       "      <th>dropoff_longitude</th>\n",
       "      <th>dropoff_latitude</th>\n",
       "      <th>passenger_count</th>\n",
       "    </tr>\n",
       "  </thead>\n",
       "  <tbody>\n",
       "    <tr>\n",
       "      <th>0</th>\n",
       "      <td>24238194</td>\n",
       "      <td>2015-05-07 19:52:06.0000003</td>\n",
       "      <td>7.5</td>\n",
       "      <td>2015-05-07 19:52:06 UTC</td>\n",
       "      <td>-73.999817</td>\n",
       "      <td>40.738354</td>\n",
       "      <td>-73.999512</td>\n",
       "      <td>40.723217</td>\n",
       "      <td>1</td>\n",
       "    </tr>\n",
       "    <tr>\n",
       "      <th>1</th>\n",
       "      <td>27835199</td>\n",
       "      <td>2009-07-17 20:04:56.0000002</td>\n",
       "      <td>7.7</td>\n",
       "      <td>2009-07-17 20:04:56 UTC</td>\n",
       "      <td>-73.994355</td>\n",
       "      <td>40.728225</td>\n",
       "      <td>-73.994710</td>\n",
       "      <td>40.750325</td>\n",
       "      <td>1</td>\n",
       "    </tr>\n",
       "    <tr>\n",
       "      <th>2</th>\n",
       "      <td>44984355</td>\n",
       "      <td>2009-08-24 21:45:00.00000061</td>\n",
       "      <td>12.9</td>\n",
       "      <td>2009-08-24 21:45:00 UTC</td>\n",
       "      <td>-74.005043</td>\n",
       "      <td>40.740770</td>\n",
       "      <td>-73.962565</td>\n",
       "      <td>40.772647</td>\n",
       "      <td>1</td>\n",
       "    </tr>\n",
       "    <tr>\n",
       "      <th>3</th>\n",
       "      <td>25894730</td>\n",
       "      <td>2009-06-26 08:22:21.0000001</td>\n",
       "      <td>5.3</td>\n",
       "      <td>2009-06-26 08:22:21 UTC</td>\n",
       "      <td>-73.976124</td>\n",
       "      <td>40.790844</td>\n",
       "      <td>-73.965316</td>\n",
       "      <td>40.803349</td>\n",
       "      <td>3</td>\n",
       "    </tr>\n",
       "    <tr>\n",
       "      <th>4</th>\n",
       "      <td>17610152</td>\n",
       "      <td>2014-08-28 17:47:00.000000188</td>\n",
       "      <td>16.0</td>\n",
       "      <td>2014-08-28 17:47:00 UTC</td>\n",
       "      <td>-73.925023</td>\n",
       "      <td>40.744085</td>\n",
       "      <td>-73.973082</td>\n",
       "      <td>40.761247</td>\n",
       "      <td>5</td>\n",
       "    </tr>\n",
       "  </tbody>\n",
       "</table>\n",
       "</div>"
      ],
      "text/plain": [
       "   Unnamed: 0                            key  fare_amount  \\\n",
       "0    24238194    2015-05-07 19:52:06.0000003          7.5   \n",
       "1    27835199    2009-07-17 20:04:56.0000002          7.7   \n",
       "2    44984355   2009-08-24 21:45:00.00000061         12.9   \n",
       "3    25894730    2009-06-26 08:22:21.0000001          5.3   \n",
       "4    17610152  2014-08-28 17:47:00.000000188         16.0   \n",
       "\n",
       "           pickup_datetime  pickup_longitude  pickup_latitude  \\\n",
       "0  2015-05-07 19:52:06 UTC        -73.999817        40.738354   \n",
       "1  2009-07-17 20:04:56 UTC        -73.994355        40.728225   \n",
       "2  2009-08-24 21:45:00 UTC        -74.005043        40.740770   \n",
       "3  2009-06-26 08:22:21 UTC        -73.976124        40.790844   \n",
       "4  2014-08-28 17:47:00 UTC        -73.925023        40.744085   \n",
       "\n",
       "   dropoff_longitude  dropoff_latitude  passenger_count  \n",
       "0         -73.999512         40.723217                1  \n",
       "1         -73.994710         40.750325                1  \n",
       "2         -73.962565         40.772647                1  \n",
       "3         -73.965316         40.803349                3  \n",
       "4         -73.973082         40.761247                5  "
      ]
     },
     "execution_count": 2,
     "metadata": {},
     "output_type": "execute_result"
    }
   ],
   "source": [
    "uber = pd.read_csv('uber.csv')\n",
    "\n",
    "uber.head()"
   ]
  },
  {
   "cell_type": "code",
   "execution_count": 3,
   "metadata": {
    "execution": {
     "iopub.execute_input": "2022-10-07T18:27:24.553781Z",
     "iopub.status.busy": "2022-10-07T18:27:24.553600Z",
     "iopub.status.idle": "2022-10-07T18:27:24.598066Z",
     "shell.execute_reply": "2022-10-07T18:27:24.597027Z",
     "shell.execute_reply.started": "2022-10-07T18:27:24.553758Z"
    }
   },
   "outputs": [
    {
     "name": "stdout",
     "output_type": "stream",
     "text": [
      "<class 'pandas.core.frame.DataFrame'>\n",
      "RangeIndex: 200000 entries, 0 to 199999\n",
      "Data columns (total 9 columns):\n",
      " #   Column             Non-Null Count   Dtype  \n",
      "---  ------             --------------   -----  \n",
      " 0   Unnamed: 0         200000 non-null  int64  \n",
      " 1   key                200000 non-null  object \n",
      " 2   fare_amount        200000 non-null  float64\n",
      " 3   pickup_datetime    200000 non-null  object \n",
      " 4   pickup_longitude   200000 non-null  float64\n",
      " 5   pickup_latitude    200000 non-null  float64\n",
      " 6   dropoff_longitude  199999 non-null  float64\n",
      " 7   dropoff_latitude   199999 non-null  float64\n",
      " 8   passenger_count    200000 non-null  int64  \n",
      "dtypes: float64(5), int64(2), object(2)\n",
      "memory usage: 13.7+ MB\n"
     ]
    }
   ],
   "source": [
    "uber.info()"
   ]
  },
  {
   "cell_type": "markdown",
   "metadata": {},
   "source": [
    "# **Dropping the NULL values**\n",
    "We will check for NULL values in Dataset"
   ]
  },
  {
   "cell_type": "code",
   "execution_count": 4,
   "metadata": {
    "execution": {
     "iopub.execute_input": "2022-10-07T18:27:24.599515Z",
     "iopub.status.busy": "2022-10-07T18:27:24.599334Z",
     "iopub.status.idle": "2022-10-07T18:27:24.623357Z",
     "shell.execute_reply": "2022-10-07T18:27:24.622554Z",
     "shell.execute_reply.started": "2022-10-07T18:27:24.599492Z"
    }
   },
   "outputs": [
    {
     "data": {
      "text/plain": [
       "Unnamed: 0           0\n",
       "key                  0\n",
       "fare_amount          0\n",
       "pickup_datetime      0\n",
       "pickup_longitude     0\n",
       "pickup_latitude      0\n",
       "dropoff_longitude    1\n",
       "dropoff_latitude     1\n",
       "passenger_count      0\n",
       "dtype: int64"
      ]
     },
     "execution_count": 4,
     "metadata": {},
     "output_type": "execute_result"
    }
   ],
   "source": [
    "uber.isnull().sum()"
   ]
  },
  {
   "cell_type": "markdown",
   "metadata": {},
   "source": [
    "Getting rid of first and second column, since key and ID are not useful in predictions."
   ]
  },
  {
   "cell_type": "code",
   "execution_count": 5,
   "metadata": {
    "execution": {
     "iopub.execute_input": "2022-10-07T18:27:24.625204Z",
     "iopub.status.busy": "2022-10-07T18:27:24.624972Z",
     "iopub.status.idle": "2022-10-07T18:27:24.662765Z",
     "shell.execute_reply": "2022-10-07T18:27:24.662294Z",
     "shell.execute_reply.started": "2022-10-07T18:27:24.625182Z"
    }
   },
   "outputs": [],
   "source": [
    "uber_2 = uber.drop(['Unnamed: 0','key'],axis=1)\n",
    "uber_2.dropna(axis=0,inplace=True)"
   ]
  },
  {
   "cell_type": "markdown",
   "metadata": {},
   "source": [
    "We have gotten rid of the first two columns and the NULL values"
   ]
  },
  {
   "cell_type": "code",
   "execution_count": 6,
   "metadata": {
    "execution": {
     "iopub.execute_input": "2022-10-07T18:27:24.665155Z",
     "iopub.status.busy": "2022-10-07T18:27:24.663699Z",
     "iopub.status.idle": "2022-10-07T18:27:24.680550Z",
     "shell.execute_reply": "2022-10-07T18:27:24.680078Z",
     "shell.execute_reply.started": "2022-10-07T18:27:24.665120Z"
    }
   },
   "outputs": [
    {
     "data": {
      "text/plain": [
       "fare_amount          0\n",
       "pickup_datetime      0\n",
       "pickup_longitude     0\n",
       "pickup_latitude      0\n",
       "dropoff_longitude    0\n",
       "dropoff_latitude     0\n",
       "passenger_count      0\n",
       "dtype: int64"
      ]
     },
     "execution_count": 6,
     "metadata": {},
     "output_type": "execute_result"
    }
   ],
   "source": [
    "uber_2.isnull().sum()\n",
    "#uber_2.describe()"
   ]
  },
  {
   "cell_type": "markdown",
   "metadata": {},
   "source": [
    "# **Haversine Formula**\n",
    "Calculatin the distance between the pickup and drop co-ordinates using the Haversine formual for accuracy."
   ]
  },
  {
   "cell_type": "code",
   "execution_count": 7,
   "metadata": {
    "execution": {
     "iopub.execute_input": "2022-10-07T18:27:24.682295Z",
     "iopub.status.busy": "2022-10-07T18:27:24.681486Z",
     "iopub.status.idle": "2022-10-07T18:27:24.687997Z",
     "shell.execute_reply": "2022-10-07T18:27:24.686779Z",
     "shell.execute_reply.started": "2022-10-07T18:27:24.682265Z"
    }
   },
   "outputs": [],
   "source": [
    "def haversine (lon_1, lon_2, lat_1, lat_2):\n",
    "    \n",
    "    lon_1, lon_2, lat_1, lat_2 = map(np.radians, [lon_1, lon_2, lat_1, lat_2])  #Degrees to Radians\n",
    "    \n",
    "    \n",
    "    diff_lon = lon_2 - lon_1\n",
    "    diff_lat = lat_2 - lat_1\n",
    "    \n",
    "\n",
    "    km = 2 * 6371 * np.arcsin(np.sqrt(np.sin(diff_lat/2.0)**2 + \n",
    "                                      np.cos(lat_1) * np.cos(lat_2) * np.sin(diff_lon/2.0)**2))\n",
    "    \n",
    "    return km"
   ]
  },
  {
   "cell_type": "markdown",
   "metadata": {},
   "source": [
    "Defining the ride distance dataframe."
   ]
  },
  {
   "cell_type": "code",
   "execution_count": 8,
   "metadata": {
    "execution": {
     "iopub.execute_input": "2022-10-07T18:27:24.689299Z",
     "iopub.status.busy": "2022-10-07T18:27:24.689111Z",
     "iopub.status.idle": "2022-10-07T18:27:24.728166Z",
     "shell.execute_reply": "2022-10-07T18:27:24.727115Z",
     "shell.execute_reply.started": "2022-10-07T18:27:24.689275Z"
    }
   },
   "outputs": [],
   "source": [
    "uber_2['Distance']= haversine(uber_2['pickup_longitude'],uber_2['dropoff_longitude'],\n",
    "                             uber_2['pickup_latitude'],uber_2['dropoff_latitude'])\n",
    "\n",
    "uber_2['Distance'] = uber_2['Distance'].astype(float).round(2)    # Round-off Optional"
   ]
  },
  {
   "cell_type": "code",
   "execution_count": 9,
   "metadata": {
    "execution": {
     "iopub.execute_input": "2022-10-07T18:27:24.729667Z",
     "iopub.status.busy": "2022-10-07T18:27:24.729438Z",
     "iopub.status.idle": "2022-10-07T18:27:24.742847Z",
     "shell.execute_reply": "2022-10-07T18:27:24.741628Z",
     "shell.execute_reply.started": "2022-10-07T18:27:24.729640Z"
    }
   },
   "outputs": [
    {
     "data": {
      "text/html": [
       "<div>\n",
       "<style scoped>\n",
       "    .dataframe tbody tr th:only-of-type {\n",
       "        vertical-align: middle;\n",
       "    }\n",
       "\n",
       "    .dataframe tbody tr th {\n",
       "        vertical-align: top;\n",
       "    }\n",
       "\n",
       "    .dataframe thead th {\n",
       "        text-align: right;\n",
       "    }\n",
       "</style>\n",
       "<table border=\"1\" class=\"dataframe\">\n",
       "  <thead>\n",
       "    <tr style=\"text-align: right;\">\n",
       "      <th></th>\n",
       "      <th>fare_amount</th>\n",
       "      <th>pickup_datetime</th>\n",
       "      <th>pickup_longitude</th>\n",
       "      <th>pickup_latitude</th>\n",
       "      <th>dropoff_longitude</th>\n",
       "      <th>dropoff_latitude</th>\n",
       "      <th>passenger_count</th>\n",
       "      <th>Distance</th>\n",
       "    </tr>\n",
       "  </thead>\n",
       "  <tbody>\n",
       "    <tr>\n",
       "      <th>0</th>\n",
       "      <td>7.5</td>\n",
       "      <td>2015-05-07 19:52:06 UTC</td>\n",
       "      <td>-73.999817</td>\n",
       "      <td>40.738354</td>\n",
       "      <td>-73.999512</td>\n",
       "      <td>40.723217</td>\n",
       "      <td>1</td>\n",
       "      <td>1.68</td>\n",
       "    </tr>\n",
       "    <tr>\n",
       "      <th>1</th>\n",
       "      <td>7.7</td>\n",
       "      <td>2009-07-17 20:04:56 UTC</td>\n",
       "      <td>-73.994355</td>\n",
       "      <td>40.728225</td>\n",
       "      <td>-73.994710</td>\n",
       "      <td>40.750325</td>\n",
       "      <td>1</td>\n",
       "      <td>2.46</td>\n",
       "    </tr>\n",
       "    <tr>\n",
       "      <th>2</th>\n",
       "      <td>12.9</td>\n",
       "      <td>2009-08-24 21:45:00 UTC</td>\n",
       "      <td>-74.005043</td>\n",
       "      <td>40.740770</td>\n",
       "      <td>-73.962565</td>\n",
       "      <td>40.772647</td>\n",
       "      <td>1</td>\n",
       "      <td>5.04</td>\n",
       "    </tr>\n",
       "    <tr>\n",
       "      <th>3</th>\n",
       "      <td>5.3</td>\n",
       "      <td>2009-06-26 08:22:21 UTC</td>\n",
       "      <td>-73.976124</td>\n",
       "      <td>40.790844</td>\n",
       "      <td>-73.965316</td>\n",
       "      <td>40.803349</td>\n",
       "      <td>3</td>\n",
       "      <td>1.66</td>\n",
       "    </tr>\n",
       "    <tr>\n",
       "      <th>4</th>\n",
       "      <td>16.0</td>\n",
       "      <td>2014-08-28 17:47:00 UTC</td>\n",
       "      <td>-73.925023</td>\n",
       "      <td>40.744085</td>\n",
       "      <td>-73.973082</td>\n",
       "      <td>40.761247</td>\n",
       "      <td>5</td>\n",
       "      <td>4.48</td>\n",
       "    </tr>\n",
       "  </tbody>\n",
       "</table>\n",
       "</div>"
      ],
      "text/plain": [
       "   fare_amount          pickup_datetime  pickup_longitude  pickup_latitude  \\\n",
       "0          7.5  2015-05-07 19:52:06 UTC        -73.999817        40.738354   \n",
       "1          7.7  2009-07-17 20:04:56 UTC        -73.994355        40.728225   \n",
       "2         12.9  2009-08-24 21:45:00 UTC        -74.005043        40.740770   \n",
       "3          5.3  2009-06-26 08:22:21 UTC        -73.976124        40.790844   \n",
       "4         16.0  2014-08-28 17:47:00 UTC        -73.925023        40.744085   \n",
       "\n",
       "   dropoff_longitude  dropoff_latitude  passenger_count  Distance  \n",
       "0         -73.999512         40.723217                1      1.68  \n",
       "1         -73.994710         40.750325                1      2.46  \n",
       "2         -73.962565         40.772647                1      5.04  \n",
       "3         -73.965316         40.803349                3      1.66  \n",
       "4         -73.973082         40.761247                5      4.48  "
      ]
     },
     "execution_count": 9,
     "metadata": {},
     "output_type": "execute_result"
    }
   ],
   "source": [
    "uber_2.head()"
   ]
  },
  {
   "cell_type": "markdown",
   "metadata": {},
   "source": [
    "# **Scatter Plot**\n",
    "Distance vs Fare Amount"
   ]
  },
  {
   "cell_type": "code",
   "execution_count": 10,
   "metadata": {
    "execution": {
     "iopub.execute_input": "2022-10-07T18:27:24.744319Z",
     "iopub.status.busy": "2022-10-07T18:27:24.744100Z",
     "iopub.status.idle": "2022-10-07T18:27:25.369054Z",
     "shell.execute_reply": "2022-10-07T18:27:25.368277Z",
     "shell.execute_reply.started": "2022-10-07T18:27:24.744288Z"
    }
   },
   "outputs": [
    {
     "data": {
      "text/plain": [
       "Text(0, 0.5, 'fare_amount')"
      ]
     },
     "execution_count": 10,
     "metadata": {},
     "output_type": "execute_result"
    },
    {
     "data": {
      "image/png": "[encoded data removed]",
      "text/plain": [
       "<Figure size 720x720 with 1 Axes>"
      ]
     },
     "metadata": {
      "needs_background": "light"
     },
     "output_type": "display_data"
    }
   ],
   "source": [
    "plt.figure(figsize=[10,10])\n",
    "plt.scatter(uber_2['Distance'], uber_2['fare_amount'])\n",
    "plt.xlabel(\"Distance\")\n",
    "plt.ylabel(\"fare_amount\")"
   ]
  },
  {
   "cell_type": "markdown",
   "metadata": {},
   "source": [
    "# **Outliers** \n",
    "We can get rid of the trips with very large distances that are outliers as well as trips with 0 distance."
   ]
  },
  {
   "cell_type": "code",
   "execution_count": 11,
   "metadata": {
    "execution": {
     "iopub.execute_input": "2022-10-07T18:27:25.372294Z",
     "iopub.status.busy": "2022-10-07T18:27:25.371992Z",
     "iopub.status.idle": "2022-10-07T18:27:25.471733Z",
     "shell.execute_reply": "2022-10-07T18:27:25.470963Z",
     "shell.execute_reply.started": "2022-10-07T18:27:25.372262Z"
    }
   },
   "outputs": [],
   "source": [
    "uber_2.drop(uber_2[uber_2['Distance'] > 60].index, inplace = True)\n",
    "uber_2.drop(uber_2[uber_2['Distance'] == 0].index, inplace = True)\n",
    "uber_2.drop(uber_2[uber_2['Distance'] < 0].index, inplace = True)\n",
    "\n",
    "uber_2.drop(uber_2[uber_2['fare_amount'] == 0].index, inplace = True)\n",
    "uber_2.drop(uber_2[uber_2['fare_amount'] < 0].index, inplace = True)"
   ]
  },
  {
   "cell_type": "code",
   "execution_count": 12,
   "metadata": {
    "execution": {
     "iopub.execute_input": "2022-10-07T18:27:25.473506Z",
     "iopub.status.busy": "2022-10-07T18:27:25.472781Z",
     "iopub.status.idle": "2022-10-07T18:27:25.511556Z",
     "shell.execute_reply": "2022-10-07T18:27:25.510488Z",
     "shell.execute_reply.started": "2022-10-07T18:27:25.473443Z"
    }
   },
   "outputs": [],
   "source": [
    "uber_2.drop(uber_2[uber_2['Distance'] > 100].index, inplace = True)\n",
    "uber_2.drop(uber_2[uber_2['fare_amount'] > 100].index, inplace = True)"
   ]
  },
  {
   "cell_type": "markdown",
   "metadata": {},
   "source": [
    "Also removing rows with non-plausible fare amounts and distance travelled"
   ]
  },
  {
   "cell_type": "code",
   "execution_count": 13,
   "metadata": {
    "execution": {
     "iopub.execute_input": "2022-10-07T18:27:25.512828Z",
     "iopub.status.busy": "2022-10-07T18:27:25.512613Z",
     "iopub.status.idle": "2022-10-07T18:27:25.550034Z",
     "shell.execute_reply": "2022-10-07T18:27:25.549565Z",
     "shell.execute_reply.started": "2022-10-07T18:27:25.512804Z"
    }
   },
   "outputs": [],
   "source": [
    "uber_2.drop(uber_2[(uber_2['fare_amount']>100) & (uber_2['Distance']<1)].index, inplace = True )\n",
    "uber_2.drop(uber_2[(uber_2['fare_amount']<100) & (uber_2['Distance']>100)].index, inplace = True )"
   ]
  },
  {
   "cell_type": "code",
   "execution_count": 14,
   "metadata": {
    "execution": {
     "iopub.execute_input": "2022-10-07T18:27:25.551622Z",
     "iopub.status.busy": "2022-10-07T18:27:25.551178Z",
     "iopub.status.idle": "2022-10-07T18:27:25.573731Z",
     "shell.execute_reply": "2022-10-07T18:27:25.572717Z",
     "shell.execute_reply.started": "2022-10-07T18:27:25.551589Z"
    }
   },
   "outputs": [
    {
     "name": "stdout",
     "output_type": "stream",
     "text": [
      "<class 'pandas.core.frame.DataFrame'>\n",
      "Int64Index: 193436 entries, 0 to 199999\n",
      "Data columns (total 8 columns):\n",
      " #   Column             Non-Null Count   Dtype  \n",
      "---  ------             --------------   -----  \n",
      " 0   fare_amount        193436 non-null  float64\n",
      " 1   pickup_datetime    193436 non-null  object \n",
      " 2   pickup_longitude   193436 non-null  float64\n",
      " 3   pickup_latitude    193436 non-null  float64\n",
      " 4   dropoff_longitude  193436 non-null  float64\n",
      " 5   dropoff_latitude   193436 non-null  float64\n",
      " 6   passenger_count    193436 non-null  int64  \n",
      " 7   Distance           193436 non-null  float64\n",
      "dtypes: float64(6), int64(1), object(1)\n",
      "memory usage: 17.3+ MB\n"
     ]
    }
   ],
   "source": [
    "uber_2.info()"
   ]
  },
  {
   "cell_type": "code",
   "execution_count": 15,
   "metadata": {
    "execution": {
     "iopub.execute_input": "2022-10-07T18:27:25.575129Z",
     "iopub.status.busy": "2022-10-07T18:27:25.574894Z",
     "iopub.status.idle": "2022-10-07T18:27:26.243754Z",
     "shell.execute_reply": "2022-10-07T18:27:26.242868Z",
     "shell.execute_reply.started": "2022-10-07T18:27:25.575094Z"
    }
   },
   "outputs": [
    {
     "data": {
      "text/plain": [
       "Text(0, 0.5, 'fare_amount')"
      ]
     },
     "execution_count": 15,
     "metadata": {},
     "output_type": "execute_result"
    },
    {
     "data": {
      "image/png": "[encoded data removed]",
      "text/plain": [
       "<Figure size 576x288 with 1 Axes>"
      ]
     },
     "metadata": {
      "needs_background": "light"
     },
     "output_type": "display_data"
    }
   ],
   "source": [
    "plt.figure(figsize=[8,4])\n",
    "plt.scatter(uber_2['Distance'], uber_2['fare_amount'])\n",
    "plt.xlabel(\"Distance\")\n",
    "plt.ylabel(\"fare_amount\")"
   ]
  },
  {
   "cell_type": "markdown",
   "metadata": {},
   "source": [
    "Now the scatter plot is looking more suitable."
   ]
  },
  {
   "cell_type": "markdown",
   "metadata": {},
   "source": [
    "# **Date and Time**\n",
    "Separating the date and time into separate columns for more usability."
   ]
  },
  {
   "cell_type": "code",
   "execution_count": 16,
   "metadata": {
    "execution": {
     "iopub.execute_input": "2022-10-07T18:27:26.246732Z",
     "iopub.status.busy": "2022-10-07T18:27:26.246458Z",
     "iopub.status.idle": "2022-10-07T18:27:50.777902Z",
     "shell.execute_reply": "2022-10-07T18:27:50.776720Z",
     "shell.execute_reply.started": "2022-10-07T18:27:26.246698Z"
    }
   },
   "outputs": [],
   "source": [
    "uber_2['pickup_datetime'] = pd.to_datetime(uber_2['pickup_datetime'])\n",
    "\n",
    "uber_2['Year'] = uber_2['pickup_datetime'].apply(lambda time: time.year)\n",
    "uber_2['Month'] = uber_2['pickup_datetime'].apply(lambda time: time.month)\n",
    "uber_2['Day'] = uber_2['pickup_datetime'].apply(lambda time: time.day)\n",
    "uber_2['Day of Week'] = uber_2['pickup_datetime'].apply(lambda time: time.dayofweek)\n",
    "uber_2['Day of Week_num'] = uber_2['pickup_datetime'].apply(lambda time: time.dayofweek)\n",
    "uber_2['Hour'] = uber_2['pickup_datetime'].apply(lambda time: time.hour)\n",
    "\n",
    "day_map = {0:'Mon',1:'Tue',2:'Wed',3:'Thu',4:'Fri',5:'Sat',6:'Sun'}\n",
    "uber_2['Day of Week'] = uber_2['Day of Week'].map(day_map)\n",
    "\n",
    "uber_2['counter'] = 1"
   ]
  },
  {
   "cell_type": "markdown",
   "metadata": {},
   "source": [
    "# **Pickup and Dropoff Columns**\n",
    "Creating separate coumns for pickup and droppoff coordinates for more usability."
   ]
  },
  {
   "cell_type": "code",
   "execution_count": 17,
   "metadata": {
    "execution": {
     "iopub.execute_input": "2022-10-07T18:27:50.779418Z",
     "iopub.status.busy": "2022-10-07T18:27:50.779214Z",
     "iopub.status.idle": "2022-10-07T18:27:51.304221Z",
     "shell.execute_reply": "2022-10-07T18:27:51.303731Z",
     "shell.execute_reply.started": "2022-10-07T18:27:50.779393Z"
    }
   },
   "outputs": [],
   "source": [
    "uber_2['pickup'] = uber_2['pickup_latitude'].astype(str) + \",\" + uber_2['pickup_longitude'].astype(str)   \n",
    "uber_2['drop off'] = uber_2['dropoff_latitude'].astype(str) + \",\" + uber_2['dropoff_longitude'].astype(str)"
   ]
  },
  {
   "cell_type": "code",
   "execution_count": 18,
   "metadata": {
    "execution": {
     "iopub.execute_input": "2022-10-07T18:27:51.306004Z",
     "iopub.status.busy": "2022-10-07T18:27:51.305771Z",
     "iopub.status.idle": "2022-10-07T18:27:51.321902Z",
     "shell.execute_reply": "2022-10-07T18:27:51.321290Z",
     "shell.execute_reply.started": "2022-10-07T18:27:51.305972Z"
    }
   },
   "outputs": [
    {
     "data": {
      "text/html": [
       "<div>\n",
       "<style scoped>\n",
       "    .dataframe tbody tr th:only-of-type {\n",
       "        vertical-align: middle;\n",
       "    }\n",
       "\n",
       "    .dataframe tbody tr th {\n",
       "        vertical-align: top;\n",
       "    }\n",
       "\n",
       "    .dataframe thead th {\n",
       "        text-align: right;\n",
       "    }\n",
       "</style>\n",
       "<table border=\"1\" class=\"dataframe\">\n",
       "  <thead>\n",
       "    <tr style=\"text-align: right;\">\n",
       "      <th></th>\n",
       "      <th>fare_amount</th>\n",
       "      <th>pickup_datetime</th>\n",
       "      <th>pickup_longitude</th>\n",
       "      <th>pickup_latitude</th>\n",
       "      <th>dropoff_longitude</th>\n",
       "      <th>dropoff_latitude</th>\n",
       "      <th>passenger_count</th>\n",
       "      <th>Distance</th>\n",
       "      <th>Year</th>\n",
       "      <th>Month</th>\n",
       "      <th>Day</th>\n",
       "      <th>Day of Week</th>\n",
       "      <th>Day of Week_num</th>\n",
       "      <th>Hour</th>\n",
       "      <th>counter</th>\n",
       "      <th>pickup</th>\n",
       "      <th>drop off</th>\n",
       "    </tr>\n",
       "  </thead>\n",
       "  <tbody>\n",
       "    <tr>\n",
       "      <th>0</th>\n",
       "      <td>7.5</td>\n",
       "      <td>2015-05-07 19:52:06+00:00</td>\n",
       "      <td>-73.999817</td>\n",
       "      <td>40.738354</td>\n",
       "      <td>-73.999512</td>\n",
       "      <td>40.723217</td>\n",
       "      <td>1</td>\n",
       "      <td>1.68</td>\n",
       "      <td>2015</td>\n",
       "      <td>5</td>\n",
       "      <td>7</td>\n",
       "      <td>Thu</td>\n",
       "      <td>3</td>\n",
       "      <td>19</td>\n",
       "      <td>1</td>\n",
       "      <td>40.73835372924805,-73.99981689453125</td>\n",
       "      <td>40.72321701049805,-73.99951171875</td>\n",
       "    </tr>\n",
       "    <tr>\n",
       "      <th>1</th>\n",
       "      <td>7.7</td>\n",
       "      <td>2009-07-17 20:04:56+00:00</td>\n",
       "      <td>-73.994355</td>\n",
       "      <td>40.728225</td>\n",
       "      <td>-73.994710</td>\n",
       "      <td>40.750325</td>\n",
       "      <td>1</td>\n",
       "      <td>2.46</td>\n",
       "      <td>2009</td>\n",
       "      <td>7</td>\n",
       "      <td>17</td>\n",
       "      <td>Fri</td>\n",
       "      <td>4</td>\n",
       "      <td>20</td>\n",
       "      <td>1</td>\n",
       "      <td>40.728225,-73.994355</td>\n",
       "      <td>40.750325,-73.99471</td>\n",
       "    </tr>\n",
       "    <tr>\n",
       "      <th>2</th>\n",
       "      <td>12.9</td>\n",
       "      <td>2009-08-24 21:45:00+00:00</td>\n",
       "      <td>-74.005043</td>\n",
       "      <td>40.740770</td>\n",
       "      <td>-73.962565</td>\n",
       "      <td>40.772647</td>\n",
       "      <td>1</td>\n",
       "      <td>5.04</td>\n",
       "      <td>2009</td>\n",
       "      <td>8</td>\n",
       "      <td>24</td>\n",
       "      <td>Mon</td>\n",
       "      <td>0</td>\n",
       "      <td>21</td>\n",
       "      <td>1</td>\n",
       "      <td>40.74077,-74.005043</td>\n",
       "      <td>40.772647,-73.962565</td>\n",
       "    </tr>\n",
       "    <tr>\n",
       "      <th>3</th>\n",
       "      <td>5.3</td>\n",
       "      <td>2009-06-26 08:22:21+00:00</td>\n",
       "      <td>-73.976124</td>\n",
       "      <td>40.790844</td>\n",
       "      <td>-73.965316</td>\n",
       "      <td>40.803349</td>\n",
       "      <td>3</td>\n",
       "      <td>1.66</td>\n",
       "      <td>2009</td>\n",
       "      <td>6</td>\n",
       "      <td>26</td>\n",
       "      <td>Fri</td>\n",
       "      <td>4</td>\n",
       "      <td>8</td>\n",
       "      <td>1</td>\n",
       "      <td>40.790844,-73.976124</td>\n",
       "      <td>40.803349,-73.965316</td>\n",
       "    </tr>\n",
       "    <tr>\n",
       "      <th>4</th>\n",
       "      <td>16.0</td>\n",
       "      <td>2014-08-28 17:47:00+00:00</td>\n",
       "      <td>-73.925023</td>\n",
       "      <td>40.744085</td>\n",
       "      <td>-73.973082</td>\n",
       "      <td>40.761247</td>\n",
       "      <td>5</td>\n",
       "      <td>4.48</td>\n",
       "      <td>2014</td>\n",
       "      <td>8</td>\n",
       "      <td>28</td>\n",
       "      <td>Thu</td>\n",
       "      <td>3</td>\n",
       "      <td>17</td>\n",
       "      <td>1</td>\n",
       "      <td>40.744085,-73.925023</td>\n",
       "      <td>40.761247,-73.97308199999999</td>\n",
       "    </tr>\n",
       "  </tbody>\n",
       "</table>\n",
       "</div>"
      ],
      "text/plain": [
       "   fare_amount           pickup_datetime  pickup_longitude  pickup_latitude  \\\n",
       "0          7.5 2015-05-07 19:52:06+00:00        -73.999817        40.738354   \n",
       "1          7.7 2009-07-17 20:04:56+00:00        -73.994355        40.728225   \n",
       "2         12.9 2009-08-24 21:45:00+00:00        -74.005043        40.740770   \n",
       "3          5.3 2009-06-26 08:22:21+00:00        -73.976124        40.790844   \n",
       "4         16.0 2014-08-28 17:47:00+00:00        -73.925023        40.744085   \n",
       "\n",
       "   dropoff_longitude  dropoff_latitude  passenger_count  Distance  Year  \\\n",
       "0         -73.999512         40.723217                1      1.68  2015   \n",
       "1         -73.994710         40.750325                1      2.46  2009   \n",
       "2         -73.962565         40.772647                1      5.04  2009   \n",
       "3         -73.965316         40.803349                3      1.66  2009   \n",
       "4         -73.973082         40.761247                5      4.48  2014   \n",
       "\n",
       "   Month  Day Day of Week  Day of Week_num  Hour  counter  \\\n",
       "0      5    7         Thu                3    19        1   \n",
       "1      7   17         Fri                4    20        1   \n",
       "2      8   24         Mon                0    21        1   \n",
       "3      6   26         Fri                4     8        1   \n",
       "4      8   28         Thu                3    17        1   \n",
       "\n",
       "                                 pickup                           drop off  \n",
       "0  40.73835372924805,-73.99981689453125  40.72321701049805,-73.99951171875  \n",
       "1                  40.728225,-73.994355                40.750325,-73.99471  \n",
       "2                   40.74077,-74.005043               40.772647,-73.962565  \n",
       "3                  40.790844,-73.976124               40.803349,-73.965316  \n",
       "4                  40.744085,-73.925023       40.761247,-73.97308199999999  "
      ]
     },
     "execution_count": 18,
     "metadata": {},
     "output_type": "execute_result"
    }
   ],
   "source": [
    "uber_2.head()"
   ]
  },
  {
   "cell_type": "markdown",
   "metadata": {},
   "source": [
    "Thus, we have increased the usability of the dataset."
   ]
  },
  {
   "cell_type": "markdown",
   "metadata": {},
   "source": [
    "# **Data Visualizations**\n",
    "Finding the trends in the data variables"
   ]
  },
  {
   "cell_type": "markdown",
   "metadata": {},
   "source": [
    "# **Average Yearly Trips**\n"
   ]
  },
  {
   "cell_type": "code",
   "execution_count": 19,
   "metadata": {
    "execution": {
     "iopub.execute_input": "2022-10-07T18:27:51.322948Z",
     "iopub.status.busy": "2022-10-07T18:27:51.322782Z",
     "iopub.status.idle": "2022-10-07T18:27:51.487209Z",
     "shell.execute_reply": "2022-10-07T18:27:51.486486Z",
     "shell.execute_reply.started": "2022-10-07T18:27:51.322926Z"
    }
   },
   "outputs": [
    {
     "name": "stdout",
     "output_type": "stream",
     "text": [
      "Average trips a year: \n",
      "[2009, 2010, 2011, 2012, 2013, 2014, 2015] [29672, 29092, 30710, 31131, 30354, 29048, 13429]\n"
     ]
    },
    {
     "data": {
      "text/plain": [
       "<BarContainer object of 7 artists>"
      ]
     },
     "execution_count": 19,
     "metadata": {},
     "output_type": "execute_result"
    },
    {
     "data": {
      "image/png": "[encoded data removed]",
      "text/plain": [
       "<Figure size 576x288 with 1 Axes>"
      ]
     },
     "metadata": {
      "needs_background": "light"
     },
     "output_type": "display_data"
    }
   ],
   "source": [
    "no_of_trips = []\n",
    "year = [2009, 2010, 2011, 2012, 2013, 2014, 2015]\n",
    "\n",
    "colors = ['#1f77b4', '#ff7f0e', '#2ca02c', '#d62728', '#9467bd',\n",
    "          '#8c564b', '#e377c2', '#7f7f7f', '#bcbd22', '#17becf']\n",
    "\n",
    "for i in range(2009, 2016):\n",
    "    x = uber_2.loc[uber_2['Year'] == i, 'counter'].sum()\n",
    "    no_of_trips.append(x)\n",
    "\n",
    "print(\"Average trips a year: \")\n",
    "print(year, no_of_trips)\n",
    "plt.figure(figsize=[8,4])\n",
    "plt.title(\"Average Yearly Trips\")\n",
    "plt.xlabel(\"Years\")\n",
    "plt.ylabel(\"Number of Trips\")\n",
    "\n",
    "plt.bar(year, no_of_trips, color=colors)"
   ]
  },
  {
   "cell_type": "markdown",
   "metadata": {},
   "source": [
    "# **Average Monthly Trips**"
   ]
  },
  {
   "cell_type": "code",
   "execution_count": 20,
   "metadata": {
    "execution": {
     "iopub.execute_input": "2022-10-07T18:27:51.488783Z",
     "iopub.status.busy": "2022-10-07T18:27:51.488193Z",
     "iopub.status.idle": "2022-10-07T18:27:51.664695Z",
     "shell.execute_reply": "2022-10-07T18:27:51.663932Z",
     "shell.execute_reply.started": "2022-10-07T18:27:51.488747Z"
    }
   },
   "outputs": [
    {
     "name": "stdout",
     "output_type": "stream",
     "text": [
      "Average trips a Month: \n",
      "['Jan', 'Feb', 'Mar', 'Apr', 'May', 'Jun', 'Jul', 'Aug', 'Sep', 'Oct', 'Nov', 'Dec'] [17123, 16137, 18160, 18001, 18256, 17202, 14582, 13659, 14768, 15688, 14818, 15042]\n"
     ]
    },
    {
     "data": {
      "text/plain": [
       "<BarContainer object of 12 artists>"
      ]
     },
     "execution_count": 20,
     "metadata": {},
     "output_type": "execute_result"
    },
    {
     "data": {
      "image/png": "[encoded data removed]",
      "text/plain": [
       "<Figure size 576x288 with 1 Axes>"
      ]
     },
     "metadata": {
      "needs_background": "light"
     },
     "output_type": "display_data"
    }
   ],
   "source": [
    "no_of_trips = []\n",
    "month = ['Jan', 'Feb', 'Mar', 'Apr', 'May', 'Jun', 'Jul', 'Aug', 'Sep', 'Oct', 'Nov', 'Dec']\n",
    "\n",
    "colors = ['#1f77b4', '#ff7f0e', '#2ca02c', '#d62728', '#9467bd',\n",
    "          '#8c564b', '#e377c2', '#7f7f7f', '#bcbd22', '#17becf']\n",
    "\n",
    "for i in range(1, 13):\n",
    "    x = uber_2.loc[uber_2['Month'] == i, 'counter'].sum()\n",
    "    no_of_trips.append(x)\n",
    "\n",
    "print(\"Average trips a Month: \")\n",
    "print(month, no_of_trips)\n",
    "plt.figure(figsize=[8,4])\n",
    "plt.title(\"Average Monthly Trips\")\n",
    "plt.xlabel(\"Months\")\n",
    "plt.ylabel(\"Number of Trips\")\n",
    "\n",
    "plt.bar(month, no_of_trips, color=colors)"
   ]
  },
  {
   "cell_type": "markdown",
   "metadata": {},
   "source": [
    "# **Average Daily Trips**"
   ]
  },
  {
   "cell_type": "code",
   "execution_count": 21,
   "metadata": {
    "execution": {
     "iopub.execute_input": "2022-10-07T18:27:51.666214Z",
     "iopub.status.busy": "2022-10-07T18:27:51.665998Z",
     "iopub.status.idle": "2022-10-07T18:27:51.795770Z",
     "shell.execute_reply": "2022-10-07T18:27:51.794825Z",
     "shell.execute_reply.started": "2022-10-07T18:27:51.666182Z"
    }
   },
   "outputs": [
    {
     "name": "stdout",
     "output_type": "stream",
     "text": [
      "Average trips by Days: \n",
      "['Mon', 'Tue', 'Wed', 'Thu', 'Fri', 'Sat', 'Sun'] [24373, 27231, 28075, 29035, 29857, 29302, 25563]\n"
     ]
    },
    {
     "data": {
      "text/plain": [
       "<BarContainer object of 7 artists>"
      ]
     },
     "execution_count": 21,
     "metadata": {},
     "output_type": "execute_result"
    },
    {
     "data": {
      "image/png": "[encoded data removed]",
      "text/plain": [
       "<Figure size 576x288 with 1 Axes>"
      ]
     },
     "metadata": {
      "needs_background": "light"
     },
     "output_type": "display_data"
    }
   ],
   "source": [
    "no_of_trips = []\n",
    "day = ['Mon', 'Tue', 'Wed', 'Thu', 'Fri', 'Sat', 'Sun']\n",
    "\n",
    "colors = ['#1f77b4', '#ff7f0e', '#2ca02c', '#d62728', '#9467bd',\n",
    "          '#8c564b', '#e377c2', '#7f7f7f', '#bcbd22', '#17becf']\n",
    "\n",
    "for i in range(0, 7):\n",
    "    x = uber_2.loc[uber_2['Day of Week_num'] == i, 'counter'].sum()\n",
    "    no_of_trips.append(x)\n",
    "\n",
    "print(\"Average trips by Days: \")\n",
    "print(day, no_of_trips)\n",
    "plt.figure(figsize=[8,4])\n",
    "plt.title(\"Average Daily Trips\")\n",
    "plt.xlabel(\"Days\")\n",
    "plt.ylabel(\"Number of Trips\")\n",
    "\n",
    "plt.bar(day, no_of_trips, color=colors)"
   ]
  },
  {
   "cell_type": "code",
   "execution_count": 22,
   "metadata": {
    "execution": {
     "iopub.execute_input": "2022-10-07T18:27:51.797085Z",
     "iopub.status.busy": "2022-10-07T18:27:51.796863Z",
     "iopub.status.idle": "2022-10-07T18:27:51.907042Z",
     "shell.execute_reply": "2022-10-07T18:27:51.906566Z",
     "shell.execute_reply.started": "2022-10-07T18:27:51.797053Z"
    }
   },
   "outputs": [
    {
     "data": {
      "text/plain": [
       "<Figure size 576x288 with 0 Axes>"
      ]
     },
     "metadata": {},
     "output_type": "display_data"
    },
    {
     "data": {
      "image/png": "[encoded data removed]",
      "text/plain": [
       "<Figure size 576x288 with 1 Axes>"
      ]
     },
     "metadata": {
      "needs_background": "light"
     },
     "output_type": "display_data"
    }
   ],
   "source": [
    "plt.figure(figsize=[8,4])\n",
    "fig, ax = plt.subplots(figsize=[8,4])\n",
    "fare_amount = uber_2['fare_amount']\n",
    "ax.boxplot(fare_amount,)\n",
    "plt.show()"
   ]
  },
  {
   "cell_type": "markdown",
   "metadata": {},
   "source": [
    "# **Rides vs Time**\n",
    "Relation between average number of rides over a period of time."
   ]
  },
  {
   "cell_type": "code",
   "execution_count": 23,
   "metadata": {
    "execution": {
     "iopub.execute_input": "2022-10-07T18:27:51.908457Z",
     "iopub.status.busy": "2022-10-07T18:27:51.907963Z",
     "iopub.status.idle": "2022-10-07T18:27:52.101923Z",
     "shell.execute_reply": "2022-10-07T18:27:52.101045Z",
     "shell.execute_reply.started": "2022-10-07T18:27:51.908424Z"
    }
   },
   "outputs": [
    {
     "data": {
      "text/plain": [
       "<AxesSubplot:title={'center':'No of trips vs Months'}, xlabel='January, 2009 - June, 2015', ylabel='No of Trips'>"
      ]
     },
     "execution_count": 23,
     "metadata": {},
     "output_type": "execute_result"
    },
    {
     "data": {
      "image/png": "[encoded data removed]",
      "text/plain": [
       "<Figure size 576x288 with 1 Axes>"
      ]
     },
     "metadata": {
      "needs_background": "light"
     },
     "output_type": "display_data"
    }
   ],
   "source": [
    "year_vs_trips = uber_2.groupby(['Year','Month']).agg( \n",
    "    no_of_trips = ('counter','count'),\n",
    "    Average_fair = ('fare_amount','mean'),\n",
    "    Total_fair = ('fare_amount','sum'),\n",
    "    Avg_distance = ( 'Distance', 'mean')).reset_index()\n",
    "\n",
    "year_vs_trips['avg_no_of_trips'] = year_vs_trips['no_of_trips']/30\n",
    "year_vs_trips['month_year'] = year_vs_trips['Month'].astype(str) +\", \"+ year_vs_trips['Year'].astype(str)\n",
    "\n",
    "\n",
    "year_vs_trips = year_vs_trips.reset_index()\n",
    "\n",
    "year_vs_trips.head()\n",
    "\n",
    "\n",
    "year_vs_trips.plot(kind='line',x='month_year',y='no_of_trips', xlabel='January, 2009 - June, 2015',\n",
    "    ylabel='No of Trips', title='No of trips vs Months',figsize=[8,4])"
   ]
  },
  {
   "cell_type": "markdown",
   "metadata": {},
   "source": [
    "# **Heat-Map**\n",
    "A heat map to illustrate at what time of day and week, people are using Uber the most."
   ]
  },
  {
   "cell_type": "code",
   "execution_count": 24,
   "metadata": {
    "execution": {
     "iopub.execute_input": "2022-10-07T18:27:52.103325Z",
     "iopub.status.busy": "2022-10-07T18:27:52.103097Z",
     "iopub.status.idle": "2022-10-07T18:27:52.531211Z",
     "shell.execute_reply": "2022-10-07T18:27:52.529770Z",
     "shell.execute_reply.started": "2022-10-07T18:27:52.103294Z"
    }
   },
   "outputs": [],
   "source": [
    "import seaborn as sns\n",
    "\n",
    "df_1 = uber_2[['Distance', 'Day of Week_num', 'Hour']].copy()\n",
    "\n",
    "df_h = df_1.copy()\n",
    "\n",
    "df_h = df_h.groupby(['Hour', 'Day of Week_num']).mean()\n",
    "df_h = df_h.unstack(level=0)"
   ]
  },
  {
   "cell_type": "code",
   "execution_count": 25,
   "metadata": {
    "execution": {
     "iopub.execute_input": "2022-10-07T18:27:52.532685Z",
     "iopub.status.busy": "2022-10-07T18:27:52.532489Z",
     "iopub.status.idle": "2022-10-07T18:27:52.975451Z",
     "shell.execute_reply": "2022-10-07T18:27:52.974919Z",
     "shell.execute_reply.started": "2022-10-07T18:27:52.532659Z"
    }
   },
   "outputs": [
    {
     "data": {
      "image/png": "[encoded data removed]",
      "text/plain": [
       "<Figure size 1440x504 with 2 Axes>"
      ]
     },
     "metadata": {
      "needs_background": "light"
     },
     "output_type": "display_data"
    }
   ],
   "source": [
    "fig, ax = plt.subplots(figsize=(20, 7))\n",
    "sns.heatmap(df_h, cmap=\"Reds\",\n",
    "           linewidth=0.3, cbar_kws={\"shrink\": .8})\n",
    "\n",
    "xticks_labels = ['12 AM', '01 AM', '02 AM ', '03 AM ', '04 AM ', '05 AM ', '06 AM ', '07 AM ', \n",
    "                 '08 AM ', '09 AM ', '10 AM ', '11 AM ', '12 PM ', '01 PM ', '02 PM ', '03 PM ',\n",
    "                 '04 PM ', '05 PM ', '06 PM ', '07 PM ', '08 PM ', '09 PM ', '10 PM ', '11 PM ']\n",
    "\n",
    "yticks_labels = ['Mon','Tue','Wed','Thu','Fri','Sat','Sun']\n",
    "\n",
    "plt.xticks(np.arange(24) + .5, labels=xticks_labels)\n",
    "plt.yticks(np.arange(7) + .5, labels=yticks_labels)\n",
    "\n",
    "ax.xaxis.tick_top()\n",
    "\n",
    "title = 'Weekly Uber Rides'.upper()\n",
    "plt.title(title, fontdict={'fontsize': 25})\n",
    "\n",
    "plt.show()"
   ]
  },
  {
   "cell_type": "markdown",
   "metadata": {},
   "source": [
    "# **Coorelation Matrix**\n",
    "To find the two variables that have the most inter-dependence"
   ]
  },
  {
   "cell_type": "code",
   "execution_count": 26,
   "metadata": {
    "execution": {
     "iopub.execute_input": "2022-10-07T18:27:55.494419Z",
     "iopub.status.busy": "2022-10-07T18:27:55.493908Z",
     "iopub.status.idle": "2022-10-07T18:27:55.774827Z",
     "shell.execute_reply": "2022-10-07T18:27:55.774196Z",
     "shell.execute_reply.started": "2022-10-07T18:27:55.494390Z"
    }
   },
   "outputs": [
    {
     "name": "stderr",
     "output_type": "stream",
     "text": [
      "c:\\users\\orionoriginal\\appdata\\local\\programs\\python\\python39\\lib\\site-packages\\pandas\\io\\formats\\style.py:1264: RuntimeWarning: All-NaN slice encountered\n",
      "  smin = np.nanmin(s.to_numpy()) if vmin is None else vmin\n",
      "c:\\users\\orionoriginal\\appdata\\local\\programs\\python\\python39\\lib\\site-packages\\pandas\\io\\formats\\style.py:1265: RuntimeWarning: All-NaN slice encountered\n",
      "  smax = np.nanmax(s.to_numpy()) if vmax is None else vmax\n"
     ]
    },
    {
     "data": {
      "text/html": [
       "<style  type=\"text/css\" >\n",
       "#T_3ef98_row0_col0,#T_3ef98_row1_col1,#T_3ef98_row1_col3,#T_3ef98_row2_col2,#T_3ef98_row3_col1,#T_3ef98_row3_col3,#T_3ef98_row4_col4,#T_3ef98_row5_col5,#T_3ef98_row6_col6,#T_3ef98_row7_col7,#T_3ef98_row8_col8,#T_3ef98_row9_col9,#T_3ef98_row10_col10,#T_3ef98_row11_col11{\n",
       "            background-color:  #00441b;\n",
       "            color:  #f1f1f1;\n",
       "        }#T_3ef98_row0_col1,#T_3ef98_row0_col3,#T_3ef98_row7_col1,#T_3ef98_row7_col3{\n",
       "            background-color:  #64c1a2;\n",
       "            color:  #000000;\n",
       "        }#T_3ef98_row0_col2,#T_3ef98_row5_col2,#T_3ef98_row10_col2{\n",
       "            background-color:  #6dc5a9;\n",
       "            color:  #000000;\n",
       "        }#T_3ef98_row0_col4,#T_3ef98_row5_col4,#T_3ef98_row8_col1,#T_3ef98_row8_col3,#T_3ef98_row10_col4{\n",
       "            background-color:  #68c3a6;\n",
       "            color:  #000000;\n",
       "        }#T_3ef98_row0_col5,#T_3ef98_row0_col9,#T_3ef98_row2_col1,#T_3ef98_row2_col3,#T_3ef98_row5_col9,#T_3ef98_row6_col9,#T_3ef98_row9_col0,#T_3ef98_row10_col0,#T_3ef98_row10_col9,#T_3ef98_row11_col5,#T_3ef98_row11_col9{\n",
       "            background-color:  #f4fbfc;\n",
       "            color:  #000000;\n",
       "        }#T_3ef98_row0_col6{\n",
       "            background-color:  #006428;\n",
       "            color:  #f1f1f1;\n",
       "        }#T_3ef98_row0_col7{\n",
       "            background-color:  #d4efec;\n",
       "            color:  #000000;\n",
       "        }#T_3ef98_row0_col8,#T_3ef98_row6_col7{\n",
       "            background-color:  #e5f5f9;\n",
       "            color:  #000000;\n",
       "        }#T_3ef98_row0_col10,#T_3ef98_row1_col10,#T_3ef98_row3_col10,#T_3ef98_row7_col10,#T_3ef98_row9_col8,#T_3ef98_row9_col10,#T_3ef98_row9_col11{\n",
       "            background-color:  #ebf7fa;\n",
       "            color:  #000000;\n",
       "        }#T_3ef98_row0_col11,#T_3ef98_row7_col6{\n",
       "            background-color:  #eff9fb;\n",
       "            color:  #000000;\n",
       "        }#T_3ef98_row0_col12,#T_3ef98_row1_col12,#T_3ef98_row2_col12,#T_3ef98_row3_col12,#T_3ef98_row4_col12,#T_3ef98_row5_col12,#T_3ef98_row6_col12,#T_3ef98_row7_col12,#T_3ef98_row8_col12,#T_3ef98_row9_col12,#T_3ef98_row10_col12,#T_3ef98_row11_col12,#T_3ef98_row12_col0,#T_3ef98_row12_col1,#T_3ef98_row12_col2,#T_3ef98_row12_col3,#T_3ef98_row12_col4,#T_3ef98_row12_col5,#T_3ef98_row12_col6,#T_3ef98_row12_col7,#T_3ef98_row12_col8,#T_3ef98_row12_col9,#T_3ef98_row12_col10,#T_3ef98_row12_col11,#T_3ef98_row12_col12{\n",
       "            background-color:  #000000;\n",
       "            color:  #f1f1f1;\n",
       "        }#T_3ef98_row1_col0,#T_3ef98_row1_col6,#T_3ef98_row1_col9,#T_3ef98_row2_col6,#T_3ef98_row3_col6,#T_3ef98_row3_col9,#T_3ef98_row5_col0,#T_3ef98_row9_col6{\n",
       "            background-color:  #f2fafc;\n",
       "            color:  #000000;\n",
       "        }#T_3ef98_row1_col2,#T_3ef98_row1_col4,#T_3ef98_row2_col5,#T_3ef98_row2_col9,#T_3ef98_row3_col2,#T_3ef98_row3_col4,#T_3ef98_row4_col1,#T_3ef98_row4_col3,#T_3ef98_row4_col5,#T_3ef98_row4_col9,#T_3ef98_row7_col8,#T_3ef98_row8_col7,#T_3ef98_row8_col9,#T_3ef98_row10_col11,#T_3ef98_row11_col0,#T_3ef98_row11_col6,#T_3ef98_row11_col10{\n",
       "            background-color:  #f7fcfd;\n",
       "            color:  #000000;\n",
       "        }#T_3ef98_row1_col5,#T_3ef98_row3_col5,#T_3ef98_row6_col5,#T_3ef98_row8_col5{\n",
       "            background-color:  #f5fbfc;\n",
       "            color:  #000000;\n",
       "        }#T_3ef98_row1_col7,#T_3ef98_row2_col8,#T_3ef98_row3_col7,#T_3ef98_row4_col8,#T_3ef98_row5_col8,#T_3ef98_row5_col10,#T_3ef98_row6_col8{\n",
       "            background-color:  #e7f6f9;\n",
       "            color:  #000000;\n",
       "        }#T_3ef98_row1_col8,#T_3ef98_row3_col8,#T_3ef98_row6_col10,#T_3ef98_row10_col8,#T_3ef98_row11_col8{\n",
       "            background-color:  #e9f7fa;\n",
       "            color:  #000000;\n",
       "        }#T_3ef98_row1_col11,#T_3ef98_row3_col11,#T_3ef98_row4_col11,#T_3ef98_row7_col11{\n",
       "            background-color:  #ecf8fa;\n",
       "            color:  #000000;\n",
       "        }#T_3ef98_row2_col0,#T_3ef98_row4_col0,#T_3ef98_row7_col9{\n",
       "            background-color:  #f6fcfd;\n",
       "            color:  #000000;\n",
       "        }#T_3ef98_row2_col4,#T_3ef98_row4_col2{\n",
       "            background-color:  #004a1e;\n",
       "            color:  #f1f1f1;\n",
       "        }#T_3ef98_row2_col7,#T_3ef98_row4_col7,#T_3ef98_row5_col11,#T_3ef98_row9_col7{\n",
       "            background-color:  #eaf7fa;\n",
       "            color:  #000000;\n",
       "        }#T_3ef98_row2_col10,#T_3ef98_row4_col10,#T_3ef98_row8_col10{\n",
       "            background-color:  #edf8fb;\n",
       "            color:  #000000;\n",
       "        }#T_3ef98_row2_col11,#T_3ef98_row8_col11{\n",
       "            background-color:  #ecf8fb;\n",
       "            color:  #000000;\n",
       "        }#T_3ef98_row3_col0,#T_3ef98_row4_col6{\n",
       "            background-color:  #f3fafc;\n",
       "            color:  #000000;\n",
       "        }#T_3ef98_row5_col1,#T_3ef98_row5_col3,#T_3ef98_row6_col1,#T_3ef98_row6_col3,#T_3ef98_row8_col4,#T_3ef98_row10_col1,#T_3ef98_row10_col3{\n",
       "            background-color:  #65c2a3;\n",
       "            color:  #000000;\n",
       "        }#T_3ef98_row5_col6,#T_3ef98_row8_col0,#T_3ef98_row8_col6,#T_3ef98_row10_col5{\n",
       "            background-color:  #f1fafc;\n",
       "            color:  #000000;\n",
       "        }#T_3ef98_row5_col7,#T_3ef98_row10_col7,#T_3ef98_row11_col7{\n",
       "            background-color:  #e8f6fa;\n",
       "            color:  #000000;\n",
       "        }#T_3ef98_row6_col0{\n",
       "            background-color:  #006529;\n",
       "            color:  #f1f1f1;\n",
       "        }#T_3ef98_row6_col2,#T_3ef98_row7_col4,#T_3ef98_row8_col2,#T_3ef98_row9_col4{\n",
       "            background-color:  #6ac4a7;\n",
       "            color:  #000000;\n",
       "        }#T_3ef98_row6_col4,#T_3ef98_row11_col1,#T_3ef98_row11_col3,#T_3ef98_row11_col4{\n",
       "            background-color:  #67c2a5;\n",
       "            color:  #000000;\n",
       "        }#T_3ef98_row6_col11,#T_3ef98_row10_col6{\n",
       "            background-color:  #f0f9fb;\n",
       "            color:  #000000;\n",
       "        }#T_3ef98_row7_col0{\n",
       "            background-color:  #e2f4f7;\n",
       "            color:  #000000;\n",
       "        }#T_3ef98_row7_col2,#T_3ef98_row9_col2{\n",
       "            background-color:  #6fc6aa;\n",
       "            color:  #000000;\n",
       "        }#T_3ef98_row7_col5,#T_3ef98_row9_col5{\n",
       "            background-color:  #f5fbfd;\n",
       "            color:  #000000;\n",
       "        }#T_3ef98_row9_col1,#T_3ef98_row9_col3{\n",
       "            background-color:  #63c0a0;\n",
       "            color:  #000000;\n",
       "        }#T_3ef98_row11_col2{\n",
       "            background-color:  #6cc4a8;\n",
       "            color:  #000000;\n",
       "        }</style><table id=\"T_3ef98_\" ><thead>    <tr>        <th class=\"blank level0\" ></th>        <th class=\"col_heading level0 col0\" >fare_amount</th>        <th class=\"col_heading level0 col1\" >pickup_longitude</th>        <th class=\"col_heading level0 col2\" >pickup_latitude</th>        <th class=\"col_heading level0 col3\" >dropoff_longitude</th>        <th class=\"col_heading level0 col4\" >dropoff_latitude</th>        <th class=\"col_heading level0 col5\" >passenger_count</th>        <th class=\"col_heading level0 col6\" >Distance</th>        <th class=\"col_heading level0 col7\" >Year</th>        <th class=\"col_heading level0 col8\" >Month</th>        <th class=\"col_heading level0 col9\" >Day</th>        <th class=\"col_heading level0 col10\" >Day of Week_num</th>        <th class=\"col_heading level0 col11\" >Hour</th>        <th class=\"col_heading level0 col12\" >counter</th>    </tr></thead><tbody>\n",
       "                <tr>\n",
       "                        <th id=\"T_3ef98_level0_row0\" class=\"row_heading level0 row0\" >fare_amount</th>\n",
       "                        <td id=\"T_3ef98_row0_col0\" class=\"data row0 col0\" >1.000000</td>\n",
       "                        <td id=\"T_3ef98_row0_col1\" class=\"data row0 col1\" >0.012292</td>\n",
       "                        <td id=\"T_3ef98_row0_col2\" class=\"data row0 col2\" >-0.008891</td>\n",
       "                        <td id=\"T_3ef98_row0_col3\" class=\"data row0 col3\" >0.010831</td>\n",
       "                        <td id=\"T_3ef98_row0_col4\" class=\"data row0 col4\" >-0.009044</td>\n",
       "                        <td id=\"T_3ef98_row0_col5\" class=\"data row0 col5\" >0.014409</td>\n",
       "                        <td id=\"T_3ef98_row0_col6\" class=\"data row0 col6\" >0.895513</td>\n",
       "                        <td id=\"T_3ef98_row0_col7\" class=\"data row0 col7\" >0.124050</td>\n",
       "                        <td id=\"T_3ef98_row0_col8\" class=\"data row0 col8\" >0.024850</td>\n",
       "                        <td id=\"T_3ef98_row0_col9\" class=\"data row0 col9\" >0.000277</td>\n",
       "                        <td id=\"T_3ef98_row0_col10\" class=\"data row0 col10\" >0.004881</td>\n",
       "                        <td id=\"T_3ef98_row0_col11\" class=\"data row0 col11\" >-0.020270</td>\n",
       "                        <td id=\"T_3ef98_row0_col12\" class=\"data row0 col12\" >nan</td>\n",
       "            </tr>\n",
       "            <tr>\n",
       "                        <th id=\"T_3ef98_level0_row1\" class=\"row_heading level0 row1\" >pickup_longitude</th>\n",
       "                        <td id=\"T_3ef98_row1_col0\" class=\"data row1 col0\" >0.012292</td>\n",
       "                        <td id=\"T_3ef98_row1_col1\" class=\"data row1 col1\" >1.000000</td>\n",
       "                        <td id=\"T_3ef98_row1_col2\" class=\"data row1 col2\" >-0.949099</td>\n",
       "                        <td id=\"T_3ef98_row1_col3\" class=\"data row1 col3\" >0.999885</td>\n",
       "                        <td id=\"T_3ef98_row1_col4\" class=\"data row1 col4\" >-0.993976</td>\n",
       "                        <td id=\"T_3ef98_row1_col5\" class=\"data row1 col5\" >0.009176</td>\n",
       "                        <td id=\"T_3ef98_row1_col6\" class=\"data row1 col6\" >0.005356</td>\n",
       "                        <td id=\"T_3ef98_row1_col7\" class=\"data row1 col7\" >0.013480</td>\n",
       "                        <td id=\"T_3ef98_row1_col8\" class=\"data row1 col8\" >-0.007497</td>\n",
       "                        <td id=\"T_3ef98_row1_col9\" class=\"data row1 col9\" >0.019531</td>\n",
       "                        <td id=\"T_3ef98_row1_col10\" class=\"data row1 col10\" >0.008243</td>\n",
       "                        <td id=\"T_3ef98_row1_col11\" class=\"data row1 col11\" >0.001835</td>\n",
       "                        <td id=\"T_3ef98_row1_col12\" class=\"data row1 col12\" >nan</td>\n",
       "            </tr>\n",
       "            <tr>\n",
       "                        <th id=\"T_3ef98_level0_row2\" class=\"row_heading level0 row2\" >pickup_latitude</th>\n",
       "                        <td id=\"T_3ef98_row2_col0\" class=\"data row2 col0\" >-0.008891</td>\n",
       "                        <td id=\"T_3ef98_row2_col1\" class=\"data row2 col1\" >-0.949099</td>\n",
       "                        <td id=\"T_3ef98_row2_col2\" class=\"data row2 col2\" >1.000000</td>\n",
       "                        <td id=\"T_3ef98_row2_col3\" class=\"data row2 col3\" >-0.949096</td>\n",
       "                        <td id=\"T_3ef98_row2_col4\" class=\"data row2 col4\" >0.954760</td>\n",
       "                        <td id=\"T_3ef98_row2_col5\" class=\"data row2 col5\" >-0.009219</td>\n",
       "                        <td id=\"T_3ef98_row2_col6\" class=\"data row2 col6\" >0.003243</td>\n",
       "                        <td id=\"T_3ef98_row2_col7\" class=\"data row2 col7\" >-0.013693</td>\n",
       "                        <td id=\"T_3ef98_row2_col8\" class=\"data row2 col8\" >0.007602</td>\n",
       "                        <td id=\"T_3ef98_row2_col9\" class=\"data row2 col9\" >-0.019393</td>\n",
       "                        <td id=\"T_3ef98_row2_col10\" class=\"data row2 col10\" >-0.008924</td>\n",
       "                        <td id=\"T_3ef98_row2_col11\" class=\"data row2 col11\" >-0.001821</td>\n",
       "                        <td id=\"T_3ef98_row2_col12\" class=\"data row2 col12\" >nan</td>\n",
       "            </tr>\n",
       "            <tr>\n",
       "                        <th id=\"T_3ef98_level0_row3\" class=\"row_heading level0 row3\" >dropoff_longitude</th>\n",
       "                        <td id=\"T_3ef98_row3_col0\" class=\"data row3 col0\" >0.010831</td>\n",
       "                        <td id=\"T_3ef98_row3_col1\" class=\"data row3 col1\" >0.999885</td>\n",
       "                        <td id=\"T_3ef98_row3_col2\" class=\"data row3 col2\" >-0.949096</td>\n",
       "                        <td id=\"T_3ef98_row3_col3\" class=\"data row3 col3\" >1.000000</td>\n",
       "                        <td id=\"T_3ef98_row3_col4\" class=\"data row3 col4\" >-0.993964</td>\n",
       "                        <td id=\"T_3ef98_row3_col5\" class=\"data row3 col5\" >0.009164</td>\n",
       "                        <td id=\"T_3ef98_row3_col6\" class=\"data row3 col6\" >0.004464</td>\n",
       "                        <td id=\"T_3ef98_row3_col7\" class=\"data row3 col7\" >0.013373</td>\n",
       "                        <td id=\"T_3ef98_row3_col8\" class=\"data row3 col8\" >-0.007452</td>\n",
       "                        <td id=\"T_3ef98_row3_col9\" class=\"data row3 col9\" >0.019555</td>\n",
       "                        <td id=\"T_3ef98_row3_col10\" class=\"data row3 col10\" >0.008543</td>\n",
       "                        <td id=\"T_3ef98_row3_col11\" class=\"data row3 col11\" >0.000937</td>\n",
       "                        <td id=\"T_3ef98_row3_col12\" class=\"data row3 col12\" >nan</td>\n",
       "            </tr>\n",
       "            <tr>\n",
       "                        <th id=\"T_3ef98_level0_row4\" class=\"row_heading level0 row4\" >dropoff_latitude</th>\n",
       "                        <td id=\"T_3ef98_row4_col0\" class=\"data row4 col0\" >-0.009044</td>\n",
       "                        <td id=\"T_3ef98_row4_col1\" class=\"data row4 col1\" >-0.993976</td>\n",
       "                        <td id=\"T_3ef98_row4_col2\" class=\"data row4 col2\" >0.954760</td>\n",
       "                        <td id=\"T_3ef98_row4_col3\" class=\"data row4 col3\" >-0.993964</td>\n",
       "                        <td id=\"T_3ef98_row4_col4\" class=\"data row4 col4\" >1.000000</td>\n",
       "                        <td id=\"T_3ef98_row4_col5\" class=\"data row4 col5\" >-0.009263</td>\n",
       "                        <td id=\"T_3ef98_row4_col6\" class=\"data row4 col6\" >-0.002255</td>\n",
       "                        <td id=\"T_3ef98_row4_col7\" class=\"data row4 col7\" >-0.014365</td>\n",
       "                        <td id=\"T_3ef98_row4_col8\" class=\"data row4 col8\" >0.007982</td>\n",
       "                        <td id=\"T_3ef98_row4_col9\" class=\"data row4 col9\" >-0.020119</td>\n",
       "                        <td id=\"T_3ef98_row4_col10\" class=\"data row4 col10\" >-0.008916</td>\n",
       "                        <td id=\"T_3ef98_row4_col11\" class=\"data row4 col11\" >-0.001016</td>\n",
       "                        <td id=\"T_3ef98_row4_col12\" class=\"data row4 col12\" >nan</td>\n",
       "            </tr>\n",
       "            <tr>\n",
       "                        <th id=\"T_3ef98_level0_row5\" class=\"row_heading level0 row5\" >passenger_count</th>\n",
       "                        <td id=\"T_3ef98_row5_col0\" class=\"data row5 col0\" >0.014409</td>\n",
       "                        <td id=\"T_3ef98_row5_col1\" class=\"data row5 col1\" >0.009176</td>\n",
       "                        <td id=\"T_3ef98_row5_col2\" class=\"data row5 col2\" >-0.009219</td>\n",
       "                        <td id=\"T_3ef98_row5_col3\" class=\"data row5 col3\" >0.009164</td>\n",
       "                        <td id=\"T_3ef98_row5_col4\" class=\"data row5 col4\" >-0.009263</td>\n",
       "                        <td id=\"T_3ef98_row5_col5\" class=\"data row5 col5\" >1.000000</td>\n",
       "                        <td id=\"T_3ef98_row5_col6\" class=\"data row5 col6\" >0.007852</td>\n",
       "                        <td id=\"T_3ef98_row5_col7\" class=\"data row5 col7\" >0.005388</td>\n",
       "                        <td id=\"T_3ef98_row5_col8\" class=\"data row5 col8\" >0.010002</td>\n",
       "                        <td id=\"T_3ef98_row5_col9\" class=\"data row5 col9\" >0.003742</td>\n",
       "                        <td id=\"T_3ef98_row5_col10\" class=\"data row5 col10\" >0.033882</td>\n",
       "                        <td id=\"T_3ef98_row5_col11\" class=\"data row5 col11\" >0.013427</td>\n",
       "                        <td id=\"T_3ef98_row5_col12\" class=\"data row5 col12\" >nan</td>\n",
       "            </tr>\n",
       "            <tr>\n",
       "                        <th id=\"T_3ef98_level0_row6\" class=\"row_heading level0 row6\" >Distance</th>\n",
       "                        <td id=\"T_3ef98_row6_col0\" class=\"data row6 col0\" >0.895513</td>\n",
       "                        <td id=\"T_3ef98_row6_col1\" class=\"data row6 col1\" >0.005356</td>\n",
       "                        <td id=\"T_3ef98_row6_col2\" class=\"data row6 col2\" >0.003243</td>\n",
       "                        <td id=\"T_3ef98_row6_col3\" class=\"data row6 col3\" >0.004464</td>\n",
       "                        <td id=\"T_3ef98_row6_col4\" class=\"data row6 col4\" >-0.002255</td>\n",
       "                        <td id=\"T_3ef98_row6_col5\" class=\"data row6 col5\" >0.007852</td>\n",
       "                        <td id=\"T_3ef98_row6_col6\" class=\"data row6 col6\" >1.000000</td>\n",
       "                        <td id=\"T_3ef98_row6_col7\" class=\"data row6 col7\" >0.025569</td>\n",
       "                        <td id=\"T_3ef98_row6_col8\" class=\"data row6 col8\" >0.012504</td>\n",
       "                        <td id=\"T_3ef98_row6_col9\" class=\"data row6 col9\" >0.000794</td>\n",
       "                        <td id=\"T_3ef98_row6_col10\" class=\"data row6 col10\" >0.017320</td>\n",
       "                        <td id=\"T_3ef98_row6_col11\" class=\"data row6 col11\" >-0.032766</td>\n",
       "                        <td id=\"T_3ef98_row6_col12\" class=\"data row6 col12\" >nan</td>\n",
       "            </tr>\n",
       "            <tr>\n",
       "                        <th id=\"T_3ef98_level0_row7\" class=\"row_heading level0 row7\" >Year</th>\n",
       "                        <td id=\"T_3ef98_row7_col0\" class=\"data row7 col0\" >0.124050</td>\n",
       "                        <td id=\"T_3ef98_row7_col1\" class=\"data row7 col1\" >0.013480</td>\n",
       "                        <td id=\"T_3ef98_row7_col2\" class=\"data row7 col2\" >-0.013693</td>\n",
       "                        <td id=\"T_3ef98_row7_col3\" class=\"data row7 col3\" >0.013373</td>\n",
       "                        <td id=\"T_3ef98_row7_col4\" class=\"data row7 col4\" >-0.014365</td>\n",
       "                        <td id=\"T_3ef98_row7_col5\" class=\"data row7 col5\" >0.005388</td>\n",
       "                        <td id=\"T_3ef98_row7_col6\" class=\"data row7 col6\" >0.025569</td>\n",
       "                        <td id=\"T_3ef98_row7_col7\" class=\"data row7 col7\" >1.000000</td>\n",
       "                        <td id=\"T_3ef98_row7_col8\" class=\"data row7 col8\" >-0.115519</td>\n",
       "                        <td id=\"T_3ef98_row7_col9\" class=\"data row7 col9\" >-0.012210</td>\n",
       "                        <td id=\"T_3ef98_row7_col10\" class=\"data row7 col10\" >0.005962</td>\n",
       "                        <td id=\"T_3ef98_row7_col11\" class=\"data row7 col11\" >0.001849</td>\n",
       "                        <td id=\"T_3ef98_row7_col12\" class=\"data row7 col12\" >nan</td>\n",
       "            </tr>\n",
       "            <tr>\n",
       "                        <th id=\"T_3ef98_level0_row8\" class=\"row_heading level0 row8\" >Month</th>\n",
       "                        <td id=\"T_3ef98_row8_col0\" class=\"data row8 col0\" >0.024850</td>\n",
       "                        <td id=\"T_3ef98_row8_col1\" class=\"data row8 col1\" >-0.007497</td>\n",
       "                        <td id=\"T_3ef98_row8_col2\" class=\"data row8 col2\" >0.007602</td>\n",
       "                        <td id=\"T_3ef98_row8_col3\" class=\"data row8 col3\" >-0.007452</td>\n",
       "                        <td id=\"T_3ef98_row8_col4\" class=\"data row8 col4\" >0.007982</td>\n",
       "                        <td id=\"T_3ef98_row8_col5\" class=\"data row8 col5\" >0.010002</td>\n",
       "                        <td id=\"T_3ef98_row8_col6\" class=\"data row8 col6\" >0.012504</td>\n",
       "                        <td id=\"T_3ef98_row8_col7\" class=\"data row8 col7\" >-0.115519</td>\n",
       "                        <td id=\"T_3ef98_row8_col8\" class=\"data row8 col8\" >1.000000</td>\n",
       "                        <td id=\"T_3ef98_row8_col9\" class=\"data row8 col9\" >-0.017112</td>\n",
       "                        <td id=\"T_3ef98_row8_col10\" class=\"data row8 col10\" >-0.008894</td>\n",
       "                        <td id=\"T_3ef98_row8_col11\" class=\"data row8 col11\" >-0.004274</td>\n",
       "                        <td id=\"T_3ef98_row8_col12\" class=\"data row8 col12\" >nan</td>\n",
       "            </tr>\n",
       "            <tr>\n",
       "                        <th id=\"T_3ef98_level0_row9\" class=\"row_heading level0 row9\" >Day</th>\n",
       "                        <td id=\"T_3ef98_row9_col0\" class=\"data row9 col0\" >0.000277</td>\n",
       "                        <td id=\"T_3ef98_row9_col1\" class=\"data row9 col1\" >0.019531</td>\n",
       "                        <td id=\"T_3ef98_row9_col2\" class=\"data row9 col2\" >-0.019393</td>\n",
       "                        <td id=\"T_3ef98_row9_col3\" class=\"data row9 col3\" >0.019555</td>\n",
       "                        <td id=\"T_3ef98_row9_col4\" class=\"data row9 col4\" >-0.020119</td>\n",
       "                        <td id=\"T_3ef98_row9_col5\" class=\"data row9 col5\" >0.003742</td>\n",
       "                        <td id=\"T_3ef98_row9_col6\" class=\"data row9 col6\" >0.000794</td>\n",
       "                        <td id=\"T_3ef98_row9_col7\" class=\"data row9 col7\" >-0.012210</td>\n",
       "                        <td id=\"T_3ef98_row9_col8\" class=\"data row9 col8\" >-0.017112</td>\n",
       "                        <td id=\"T_3ef98_row9_col9\" class=\"data row9 col9\" >1.000000</td>\n",
       "                        <td id=\"T_3ef98_row9_col10\" class=\"data row9 col10\" >0.005179</td>\n",
       "                        <td id=\"T_3ef98_row9_col11\" class=\"data row9 col11\" >0.005320</td>\n",
       "                        <td id=\"T_3ef98_row9_col12\" class=\"data row9 col12\" >nan</td>\n",
       "            </tr>\n",
       "            <tr>\n",
       "                        <th id=\"T_3ef98_level0_row10\" class=\"row_heading level0 row10\" >Day of Week_num</th>\n",
       "                        <td id=\"T_3ef98_row10_col0\" class=\"data row10 col0\" >0.004881</td>\n",
       "                        <td id=\"T_3ef98_row10_col1\" class=\"data row10 col1\" >0.008243</td>\n",
       "                        <td id=\"T_3ef98_row10_col2\" class=\"data row10 col2\" >-0.008924</td>\n",
       "                        <td id=\"T_3ef98_row10_col3\" class=\"data row10 col3\" >0.008543</td>\n",
       "                        <td id=\"T_3ef98_row10_col4\" class=\"data row10 col4\" >-0.008916</td>\n",
       "                        <td id=\"T_3ef98_row10_col5\" class=\"data row10 col5\" >0.033882</td>\n",
       "                        <td id=\"T_3ef98_row10_col6\" class=\"data row10 col6\" >0.017320</td>\n",
       "                        <td id=\"T_3ef98_row10_col7\" class=\"data row10 col7\" >0.005962</td>\n",
       "                        <td id=\"T_3ef98_row10_col8\" class=\"data row10 col8\" >-0.008894</td>\n",
       "                        <td id=\"T_3ef98_row10_col9\" class=\"data row10 col9\" >0.005179</td>\n",
       "                        <td id=\"T_3ef98_row10_col10\" class=\"data row10 col10\" >1.000000</td>\n",
       "                        <td id=\"T_3ef98_row10_col11\" class=\"data row10 col11\" >-0.086451</td>\n",
       "                        <td id=\"T_3ef98_row10_col12\" class=\"data row10 col12\" >nan</td>\n",
       "            </tr>\n",
       "            <tr>\n",
       "                        <th id=\"T_3ef98_level0_row11\" class=\"row_heading level0 row11\" >Hour</th>\n",
       "                        <td id=\"T_3ef98_row11_col0\" class=\"data row11 col0\" >-0.020270</td>\n",
       "                        <td id=\"T_3ef98_row11_col1\" class=\"data row11 col1\" >0.001835</td>\n",
       "                        <td id=\"T_3ef98_row11_col2\" class=\"data row11 col2\" >-0.001821</td>\n",
       "                        <td id=\"T_3ef98_row11_col3\" class=\"data row11 col3\" >0.000937</td>\n",
       "                        <td id=\"T_3ef98_row11_col4\" class=\"data row11 col4\" >-0.001016</td>\n",
       "                        <td id=\"T_3ef98_row11_col5\" class=\"data row11 col5\" >0.013427</td>\n",
       "                        <td id=\"T_3ef98_row11_col6\" class=\"data row11 col6\" >-0.032766</td>\n",
       "                        <td id=\"T_3ef98_row11_col7\" class=\"data row11 col7\" >0.001849</td>\n",
       "                        <td id=\"T_3ef98_row11_col8\" class=\"data row11 col8\" >-0.004274</td>\n",
       "                        <td id=\"T_3ef98_row11_col9\" class=\"data row11 col9\" >0.005320</td>\n",
       "                        <td id=\"T_3ef98_row11_col10\" class=\"data row11 col10\" >-0.086451</td>\n",
       "                        <td id=\"T_3ef98_row11_col11\" class=\"data row11 col11\" >1.000000</td>\n",
       "                        <td id=\"T_3ef98_row11_col12\" class=\"data row11 col12\" >nan</td>\n",
       "            </tr>\n",
       "            <tr>\n",
       "                        <th id=\"T_3ef98_level0_row12\" class=\"row_heading level0 row12\" >counter</th>\n",
       "                        <td id=\"T_3ef98_row12_col0\" class=\"data row12 col0\" >nan</td>\n",
       "                        <td id=\"T_3ef98_row12_col1\" class=\"data row12 col1\" >nan</td>\n",
       "                        <td id=\"T_3ef98_row12_col2\" class=\"data row12 col2\" >nan</td>\n",
       "                        <td id=\"T_3ef98_row12_col3\" class=\"data row12 col3\" >nan</td>\n",
       "                        <td id=\"T_3ef98_row12_col4\" class=\"data row12 col4\" >nan</td>\n",
       "                        <td id=\"T_3ef98_row12_col5\" class=\"data row12 col5\" >nan</td>\n",
       "                        <td id=\"T_3ef98_row12_col6\" class=\"data row12 col6\" >nan</td>\n",
       "                        <td id=\"T_3ef98_row12_col7\" class=\"data row12 col7\" >nan</td>\n",
       "                        <td id=\"T_3ef98_row12_col8\" class=\"data row12 col8\" >nan</td>\n",
       "                        <td id=\"T_3ef98_row12_col9\" class=\"data row12 col9\" >nan</td>\n",
       "                        <td id=\"T_3ef98_row12_col10\" class=\"data row12 col10\" >nan</td>\n",
       "                        <td id=\"T_3ef98_row12_col11\" class=\"data row12 col11\" >nan</td>\n",
       "                        <td id=\"T_3ef98_row12_col12\" class=\"data row12 col12\" >nan</td>\n",
       "            </tr>\n",
       "    </tbody></table>"
      ],
      "text/plain": [
       "<pandas.io.formats.style.Styler at 0x1bc017a8550>"
      ]
     },
     "execution_count": 26,
     "metadata": {},
     "output_type": "execute_result"
    }
   ],
   "source": [
    "corr = uber_2.corr()\n",
    "\n",
    "corr.style.background_gradient(cmap='BuGn')"
   ]
  },
  {
   "cell_type": "code",
   "execution_count": 27,
   "metadata": {
    "execution": {
     "iopub.execute_input": "2022-10-07T18:27:52.977980Z",
     "iopub.status.busy": "2022-10-07T18:27:52.977469Z",
     "iopub.status.idle": "2022-10-07T18:27:54.060655Z",
     "shell.execute_reply": "2022-10-07T18:27:54.059699Z",
     "shell.execute_reply.started": "2022-10-07T18:27:52.977945Z"
    }
   },
   "outputs": [
    {
     "name": "stderr",
     "output_type": "stream",
     "text": [
      "c:\\users\\orionoriginal\\appdata\\local\\programs\\python\\python39\\lib\\site-packages\\seaborn\\distributions.py:2557: FutureWarning: `distplot` is a deprecated function and will be removed in a future version. Please adapt your code to use either `displot` (a figure-level function with similar flexibility) or `histplot` (an axes-level function for histograms).\n",
      "  warnings.warn(msg, FutureWarning)\n"
     ]
    },
    {
     "data": {
      "image/png": "[encoded data removed]",
      "text/plain": [
       "<Figure size 576x288 with 1 Axes>"
      ]
     },
     "metadata": {
      "needs_background": "light"
     },
     "output_type": "display_data"
    }
   ],
   "source": [
    "plt.figure(figsize=[8,4])\n",
    "sns.distplot(uber_2['fare_amount'], color='g',hist_kws=dict(edgecolor=\"black\", linewidth=2), bins=30)\n",
    "plt.title('Target Variable Distribution')\n",
    "plt.show()"
   ]
  },
  {
   "cell_type": "markdown",
   "metadata": {},
   "source": [
    "# **Statistics**\n",
    "Some general statistical information about the data"
   ]
  },
  {
   "cell_type": "markdown",
   "metadata": {},
   "source": [
    "**Fare Amount**"
   ]
  },
  {
   "cell_type": "markdown",
   "metadata": {},
   "source": [
    "There is some coorelation between the distance and fare amount. So we will implement our simple linear regression model using these two varaibles"
   ]
  },
  {
   "cell_type": "markdown",
   "metadata": {},
   "source": [
    "# **Standardization**\n",
    "For more accurate results on our linear regression model"
   ]
  },
  {
   "cell_type": "code",
   "execution_count": 28,
   "metadata": {
    "execution": {
     "iopub.execute_input": "2022-10-07T18:27:54.062211Z",
     "iopub.status.busy": "2022-10-07T18:27:54.061957Z",
     "iopub.status.idle": "2022-10-07T18:27:54.748472Z",
     "shell.execute_reply": "2022-10-07T18:27:54.747078Z",
     "shell.execute_reply.started": "2022-10-07T18:27:54.062184Z"
    }
   },
   "outputs": [
    {
     "name": "stdout",
     "output_type": "stream",
     "text": [
      "Mean of fare prices is 11.282935803056308 \n",
      "Median of fare prices is 8.5 \n",
      "Standard Deviation of Fare Prices is 9.308836645207887 \n"
     ]
    }
   ],
   "source": [
    "import statistics as st\n",
    "\n",
    "print(\"Mean of fare prices is % s \"\n",
    "         % (st.mean(uber_2['fare_amount'])))\n",
    "\n",
    "print(\"Median of fare prices is % s \"\n",
    "         % (st.median(uber_2['fare_amount'])))\n",
    "\n",
    "print(\"Standard Deviation of Fare Prices is % s \"\n",
    "                % (st.stdev(uber_2['fare_amount'])))"
   ]
  },
  {
   "cell_type": "markdown",
   "metadata": {},
   "source": [
    "**Assigning the dependent and independent variable**"
   ]
  },
  {
   "cell_type": "markdown",
   "metadata": {},
   "source": [
    "**Distance**"
   ]
  },
  {
   "cell_type": "code",
   "execution_count": 29,
   "metadata": {
    "execution": {
     "iopub.execute_input": "2022-10-07T18:27:55.775891Z",
     "iopub.status.busy": "2022-10-07T18:27:55.775729Z",
     "iopub.status.idle": "2022-10-07T18:27:55.779785Z",
     "shell.execute_reply": "2022-10-07T18:27:55.779119Z",
     "shell.execute_reply.started": "2022-10-07T18:27:55.775868Z"
    }
   },
   "outputs": [],
   "source": [
    "X = uber_2['Distance'].values.reshape(-1, 1)        #Independent Variable\n",
    "y = uber_2['fare_amount'].values.reshape(-1, 1)     #Dependent Variable"
   ]
  },
  {
   "cell_type": "code",
   "execution_count": 30,
   "metadata": {
    "execution": {
     "iopub.execute_input": "2022-10-07T18:27:54.750309Z",
     "iopub.status.busy": "2022-10-07T18:27:54.749804Z",
     "iopub.status.idle": "2022-10-07T18:27:55.490668Z",
     "shell.execute_reply": "2022-10-07T18:27:55.490061Z",
     "shell.execute_reply.started": "2022-10-07T18:27:54.750273Z"
    }
   },
   "outputs": [
    {
     "name": "stdout",
     "output_type": "stream",
     "text": [
      "Mean of Distance is 3.3513455096259226 \n",
      "Median of Distance is 2.18 \n",
      "Standard Deviation of Distance is 3.573555973014084 \n"
     ]
    }
   ],
   "source": [
    "import statistics as st\n",
    "\n",
    "print(\"Mean of Distance is % s \"\n",
    "         % (st.mean(uber_2['Distance'])))\n",
    "\n",
    "print(\"Median of Distance is % s \"\n",
    "         % (st.median(uber_2['Distance'])))\n",
    "\n",
    "print(\"Standard Deviation of Distance is % s \"\n",
    "                % (st.stdev(uber_2['Distance'])))"
   ]
  },
  {
   "cell_type": "code",
   "execution_count": 31,
   "metadata": {
    "execution": {
     "iopub.execute_input": "2022-10-07T18:27:55.780864Z",
     "iopub.status.busy": "2022-10-07T18:27:55.780698Z",
     "iopub.status.idle": "2022-10-07T18:27:55.856721Z",
     "shell.execute_reply": "2022-10-07T18:27:55.856294Z",
     "shell.execute_reply.started": "2022-10-07T18:27:55.780840Z"
    }
   },
   "outputs": [
    {
     "name": "stdout",
     "output_type": "stream",
     "text": [
      "[[-0.40638221]\n",
      " [-0.38489719]\n",
      " [ 0.17371326]\n",
      " ...\n",
      " [ 2.10736482]\n",
      " [ 0.3455934 ]\n",
      " [ 0.30262337]]\n",
      "[[-0.46769936]\n",
      " [-0.24942881]\n",
      " [ 0.472543  ]\n",
      " ...\n",
      " [ 2.65804681]\n",
      " [ 0.05279195]\n",
      " [ 0.57887993]]\n"
     ]
    }
   ],
   "source": [
    "from sklearn.preprocessing import StandardScaler\n",
    "std = StandardScaler()\n",
    "y_std = std.fit_transform(y)\n",
    "print(y_std)\n",
    "\n",
    "x_std = std.fit_transform(X)\n",
    "print(x_std)"
   ]
  },
  {
   "cell_type": "markdown",
   "metadata": {},
   "source": [
    "# **Splitting the Dataset**\n",
    "Training and Test Set"
   ]
  },
  {
   "cell_type": "code",
   "execution_count": 32,
   "metadata": {
    "execution": {
     "iopub.execute_input": "2022-10-07T18:27:55.858024Z",
     "iopub.status.busy": "2022-10-07T18:27:55.857729Z",
     "iopub.status.idle": "2022-10-07T18:27:55.922040Z",
     "shell.execute_reply": "2022-10-07T18:27:55.921554Z",
     "shell.execute_reply.started": "2022-10-07T18:27:55.857998Z"
    }
   },
   "outputs": [],
   "source": [
    "from sklearn.model_selection import train_test_split\n",
    "X_train, X_test, y_train, y_test = train_test_split(x_std, y_std, test_size=0.2, random_state=0)"
   ]
  },
  {
   "cell_type": "markdown",
   "metadata": {},
   "source": [
    "# **Simple Linear Regression**\n",
    "Training the simple linear regression model on the training set"
   ]
  },
  {
   "cell_type": "code",
   "execution_count": 33,
   "metadata": {
    "execution": {
     "iopub.execute_input": "2022-10-07T18:27:55.923311Z",
     "iopub.status.busy": "2022-10-07T18:27:55.923112Z",
     "iopub.status.idle": "2022-10-07T18:27:56.032947Z",
     "shell.execute_reply": "2022-10-07T18:27:56.032281Z",
     "shell.execute_reply.started": "2022-10-07T18:27:55.923287Z"
    }
   },
   "outputs": [
    {
     "name": "stdout",
     "output_type": "stream",
     "text": [
      "Training set score: 0.80\n",
      "Test set score: 0.8033899\n"
     ]
    }
   ],
   "source": [
    "from sklearn.linear_model import LinearRegression\n",
    "l_reg = LinearRegression()\n",
    "l_reg.fit(X_train, y_train)\n",
    "\n",
    "print(\"Training set score: {:.2f}\".format(l_reg.score(X_train, y_train)))\n",
    "print(\"Test set score: {:.7f}\".format(l_reg.score(X_test, y_test)))"
   ]
  },
  {
   "cell_type": "markdown",
   "metadata": {},
   "source": [
    "**Actual vs Predicted Values**"
   ]
  },
  {
   "cell_type": "code",
   "execution_count": 36,
   "metadata": {
    "scrolled": true
   },
   "outputs": [],
   "source": [
    "y_pred = l_reg.predict(X_test)\n",
    "df = {'Actual': y_test, 'Predicted': y_pred}"
   ]
  },
  {
   "cell_type": "markdown",
   "metadata": {},
   "source": [
    "# **Accuracy Checking**\n",
    "Finding the MSE,MAE, RMSE, etc."
   ]
  },
  {
   "cell_type": "code",
   "execution_count": 37,
   "metadata": {
    "execution": {
     "iopub.execute_input": "2022-10-07T18:28:02.626724Z",
     "iopub.status.busy": "2022-10-07T18:28:02.626496Z",
     "iopub.status.idle": "2022-10-07T18:28:02.634087Z",
     "shell.execute_reply": "2022-10-07T18:28:02.633589Z",
     "shell.execute_reply.started": "2022-10-07T18:28:02.626700Z"
    }
   },
   "outputs": [
    {
     "name": "stdout",
     "output_type": "stream",
     "text": [
      "Mean Absolute Error: 0.2446126190350342\n",
      "Mean Squared Error: 0.1954007431280604\n",
      "Root Mean Squared Error: 0.4420415626703675\n"
     ]
    }
   ],
   "source": [
    "from sklearn import metrics\n",
    "print('Mean Absolute Error:', metrics.mean_absolute_error(y_test, y_pred))\n",
    "#print('Mean Absolute % Error:', metrics.mean_absolute_percentage_error(y_test, y_pred))\n",
    "print('Mean Squared Error:', metrics.mean_squared_error(y_test, y_pred))\n",
    "print('Root Mean Squared Error:', np.sqrt(metrics.mean_squared_error(y_test, y_pred)))"
   ]
  },
  {
   "cell_type": "markdown",
   "metadata": {},
   "source": [
    "# **Plotting the Graph**"
   ]
  },
  {
   "cell_type": "markdown",
   "metadata": {},
   "source": [
    "**Intercept and Co-efficient**"
   ]
  },
  {
   "cell_type": "code",
   "execution_count": 38,
   "metadata": {
    "execution": {
     "iopub.execute_input": "2022-10-07T18:28:02.635850Z",
     "iopub.status.busy": "2022-10-07T18:28:02.635607Z",
     "iopub.status.idle": "2022-10-07T18:28:02.647918Z",
     "shell.execute_reply": "2022-10-07T18:28:02.647059Z",
     "shell.execute_reply.started": "2022-10-07T18:28:02.635819Z"
    }
   },
   "outputs": [
    {
     "name": "stdout",
     "output_type": "stream",
     "text": [
      "[0.0002494]\n",
      "[[0.89611325]]\n"
     ]
    }
   ],
   "source": [
    "print(l_reg.intercept_)\n",
    "print(l_reg.coef_)"
   ]
  },
  {
   "cell_type": "markdown",
   "metadata": {},
   "source": [
    "# **Final Graph**\n",
    "Plotting the linear regression line against the training and test set side by side."
   ]
  },
  {
   "cell_type": "code",
   "execution_count": 39,
   "metadata": {
    "execution": {
     "iopub.execute_input": "2022-10-07T18:28:02.650239Z",
     "iopub.status.busy": "2022-10-07T18:28:02.648990Z",
     "iopub.status.idle": "2022-10-07T18:28:03.308554Z",
     "shell.execute_reply": "2022-10-07T18:28:03.307736Z",
     "shell.execute_reply.started": "2022-10-07T18:28:02.650171Z"
    }
   },
   "outputs": [
    {
     "data": {
      "image/png": "[encoded data removed]",
      "text/plain": [
       "<Figure size 432x288 with 2 Axes>"
      ]
     },
     "metadata": {
      "needs_background": "light"
     },
     "output_type": "display_data"
    }
   ],
   "source": [
    "plt.subplot(2, 2, 1)\n",
    "plt.scatter(X_train, y_train, color = 'red')\n",
    "plt.plot(X_train, l_reg.predict(X_train), color =\"blue\")\n",
    "plt.title(\"Fare vs Distance (Training Set)\")\n",
    "plt.ylabel(\"fare_amount\")\n",
    "plt.xlabel(\"Distance\")\n",
    "\n",
    "plt.subplot(2, 2, 2)\n",
    "plt.scatter(X_test, y_test, color = 'red')\n",
    "plt.plot(X_train, l_reg.predict(X_train), color =\"blue\")\n",
    "plt.ylabel(\"fare_amount\")\n",
    "plt.xlabel(\"Distance\")\n",
    "plt.title(\"Fare vs Distance (Test Set)\")\n",
    "\n",
    "\n",
    "plt.tight_layout()\n",
    "plt.rcParams[\"figure.figsize\"] = (32,22)\n",
    "plt.show()"
   ]
  },
  {
   "cell_type": "markdown",
   "metadata": {},
   "source": [
    "# **RandomForestRegressor**\n"
   ]
  },
  {
   "cell_type": "code",
   "execution_count": 40,
   "metadata": {},
   "outputs": [],
   "source": [
    "# import library for random forest regressor\n",
    "from sklearn.ensemble import RandomForestRegressor"
   ]
  },
  {
   "cell_type": "code",
   "execution_count": 41,
   "metadata": {},
   "outputs": [
    {
     "name": "stderr",
     "output_type": "stream",
     "text": [
      "<ipython-input-41-114d8cc06ea3>:5: DataConversionWarning: A column-vector y was passed when a 1d array was expected. Please change the shape of y to (n_samples,), for example using ravel().\n",
      "  rf_reg.fit(X_train, y_train)\n"
     ]
    },
    {
     "data": {
      "text/html": [
       "<style>#sk-container-id-1 {color: black;background-color: white;}#sk-container-id-1 pre{padding: 0;}#sk-container-id-1 div.sk-toggleable {background-color: white;}#sk-container-id-1 label.sk-toggleable__label {cursor: pointer;display: block;width: 100%;margin-bottom: 0;padding: 0.3em;box-sizing: border-box;text-align: center;}#sk-container-id-1 label.sk-toggleable__label-arrow:before {content: \"▸\";float: left;margin-right: 0.25em;color: #696969;}#sk-container-id-1 label.sk-toggleable__label-arrow:hover:before {color: black;}#sk-container-id-1 div.sk-estimator:hover label.sk-toggleable__label-arrow:before {color: black;}#sk-container-id-1 div.sk-toggleable__content {max-height: 0;max-width: 0;overflow: hidden;text-align: left;background-color: #f0f8ff;}#sk-container-id-1 div.sk-toggleable__content pre {margin: 0.2em;color: black;border-radius: 0.25em;background-color: #f0f8ff;}#sk-container-id-1 input.sk-toggleable__control:checked~div.sk-toggleable__content {max-height: 200px;max-width: 100%;overflow: auto;}#sk-container-id-1 input.sk-toggleable__control:checked~label.sk-toggleable__label-arrow:before {content: \"▾\";}#sk-container-id-1 div.sk-estimator input.sk-toggleable__control:checked~label.sk-toggleable__label {background-color: #d4ebff;}#sk-container-id-1 div.sk-label input.sk-toggleable__control:checked~label.sk-toggleable__label {background-color: #d4ebff;}#sk-container-id-1 input.sk-hidden--visually {border: 0;clip: rect(1px 1px 1px 1px);clip: rect(1px, 1px, 1px, 1px);height: 1px;margin: -1px;overflow: hidden;padding: 0;position: absolute;width: 1px;}#sk-container-id-1 div.sk-estimator {font-family: monospace;background-color: #f0f8ff;border: 1px dotted black;border-radius: 0.25em;box-sizing: border-box;margin-bottom: 0.5em;}#sk-container-id-1 div.sk-estimator:hover {background-color: #d4ebff;}#sk-container-id-1 div.sk-parallel-item::after {content: \"\";width: 100%;border-bottom: 1px solid gray;flex-grow: 1;}#sk-container-id-1 div.sk-label:hover label.sk-toggleable__label {background-color: #d4ebff;}#sk-container-id-1 div.sk-serial::before {content: \"\";position: absolute;border-left: 1px solid gray;box-sizing: border-box;top: 0;bottom: 0;left: 50%;z-index: 0;}#sk-container-id-1 div.sk-serial {display: flex;flex-direction: column;align-items: center;background-color: white;padding-right: 0.2em;padding-left: 0.2em;position: relative;}#sk-container-id-1 div.sk-item {position: relative;z-index: 1;}#sk-container-id-1 div.sk-parallel {display: flex;align-items: stretch;justify-content: center;background-color: white;position: relative;}#sk-container-id-1 div.sk-item::before, #sk-container-id-1 div.sk-parallel-item::before {content: \"\";position: absolute;border-left: 1px solid gray;box-sizing: border-box;top: 0;bottom: 0;left: 50%;z-index: -1;}#sk-container-id-1 div.sk-parallel-item {display: flex;flex-direction: column;z-index: 1;position: relative;background-color: white;}#sk-container-id-1 div.sk-parallel-item:first-child::after {align-self: flex-end;width: 50%;}#sk-container-id-1 div.sk-parallel-item:last-child::after {align-self: flex-start;width: 50%;}#sk-container-id-1 div.sk-parallel-item:only-child::after {width: 0;}#sk-container-id-1 div.sk-dashed-wrapped {border: 1px dashed gray;margin: 0 0.4em 0.5em 0.4em;box-sizing: border-box;padding-bottom: 0.4em;background-color: white;}#sk-container-id-1 div.sk-label label {font-family: monospace;font-weight: bold;display: inline-block;line-height: 1.2em;}#sk-container-id-1 div.sk-label-container {text-align: center;}#sk-container-id-1 div.sk-container {/* jupyter's `normalize.less` sets `[hidden] { display: none; }` but bootstrap.min.css set `[hidden] { display: none !important; }` so we also need the `!important` here to be able to override the default hidden behavior on the sphinx rendered scikit-learn.org. See: https://github.com/scikit-learn/scikit-learn/issues/21755 */display: inline-block !important;position: relative;}#sk-container-id-1 div.sk-text-repr-fallback {display: none;}</style><div id=\"sk-container-id-1\" class=\"sk-top-container\"><div class=\"sk-text-repr-fallback\"><pre>RandomForestRegressor(random_state=10)</pre><b>In a Jupyter environment, please rerun this cell to show the HTML representation or trust the notebook. <br />On GitHub, the HTML representation is unable to render, please try loading this page with nbviewer.org.</b></div><div class=\"sk-container\" hidden><div class=\"sk-item\"><div class=\"sk-estimator sk-toggleable\"><input class=\"sk-toggleable__control sk-hidden--visually\" id=\"sk-estimator-id-1\" type=\"checkbox\" checked><label for=\"sk-estimator-id-1\" class=\"sk-toggleable__label sk-toggleable__label-arrow\">RandomForestRegressor</label><div class=\"sk-toggleable__content\"><pre>RandomForestRegressor(random_state=10)</pre></div></div></div></div></div>"
      ],
      "text/plain": [
       "RandomForestRegressor(random_state=10)"
      ]
     },
     "execution_count": 41,
     "metadata": {},
     "output_type": "execute_result"
    }
   ],
   "source": [
    "#intantiate the regressor\n",
    "rf_reg = RandomForestRegressor(n_estimators=100, random_state=10)\n",
    "\n",
    "# fit the regressor with training dataset\n",
    "rf_reg.fit(X_train, y_train)"
   ]
  },
  {
   "cell_type": "code",
   "execution_count": 42,
   "metadata": {},
   "outputs": [],
   "source": [
    "# predict the values on test dataset using predict()\n",
    "y_pred_RF = rf_reg.predict(X_test)"
   ]
  },
  {
   "cell_type": "code",
   "execution_count": 43,
   "metadata": {},
   "outputs": [
    {
     "data": {
      "text/plain": [
       "array([-0.54871913,  0.1470156 , -0.44811847, ...,  0.10513227,\n",
       "       -0.35566696, -0.35648786])"
      ]
     },
     "execution_count": 43,
     "metadata": {},
     "output_type": "execute_result"
    }
   ],
   "source": [
    "y_pred_RF"
   ]
  },
  {
   "cell_type": "code",
   "execution_count": 44,
   "metadata": {},
   "outputs": [],
   "source": [
    "from sklearn.metrics import mean_squared_error\n",
    "r_squared_RF = rf_reg.score(X_test,y_test)\n",
    "# Number of observation or sample size\n",
    "n = 159999  \n",
    "\n",
    "# No of independent variables\n",
    "p = 11\n",
    "\n",
    "#Compute Adj-R-Squared\n",
    "Adj_r_squared_RF = 1 - (1-r_squared_RF)*(n-1)/(n-p-1)\n",
    "Adj_r_squared_RF\n",
    "# Compute RMSE\n",
    "rmse_RF = math.sqrt(mean_squared_error(y_test, y_pred_RF))"
   ]
  },
  {
   "cell_type": "code",
   "execution_count": 45,
   "metadata": {},
   "outputs": [
    {
     "name": "stdout",
     "output_type": "stream",
     "text": [
      "Mean Absolute Error (MAE): 0.24633853538180536\n",
      "Mean Squared Error (MSE): 0.19949470601350427\n",
      "Root Mean Squared Error (RMSE): 0.44664830237391956\n"
     ]
    }
   ],
   "source": [
    "# Calculate MAE\n",
    "rf_reg_MAE = metrics.mean_absolute_error(y_test, y_pred_RF)\n",
    "print('Mean Absolute Error (MAE):', rf_reg_MAE)\n",
    "\n",
    "# Calculate MSE\n",
    "rf_reg_MSE = metrics.mean_squared_error(y_test, y_pred_RF)\n",
    "print('Mean Squared Error (MSE):', rf_reg_MSE)\n",
    "\n",
    "# Calculate RMSE\n",
    "rf_reg_RMSE = np.sqrt(metrics.mean_squared_error(y_test, y_pred_RF))\n",
    "print('Root Mean Squared Error (RMSE):', rf_reg_RMSE)"
   ]
  },
  {
   "cell_type": "code",
   "execution_count": null,
   "metadata": {},
   "outputs": [],
   "source": []
  }
 ],
 "metadata": {
  "kernelspec": {
   "display_name": "Python 3 (ipykernel)",
   "language": "python",
   "name": "python3"
  },
  "language_info": {
   "codemirror_mode": {
    "name": "ipython",
    "version": 3
   },
   "file_extension": ".py",
   "mimetype": "text/x-python",
   "name": "python",
   "nbconvert_exporter": "python",
   "pygments_lexer": "ipython3",
   "version": "3.9.7"
  }
 },
 "nbformat": 4,
 "nbformat_minor": 4
}
