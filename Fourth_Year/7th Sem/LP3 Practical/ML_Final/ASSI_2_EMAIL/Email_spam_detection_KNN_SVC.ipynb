{
 "cells": [
  {
   "cell_type": "markdown",
   "id": "70ec3bae",
   "metadata": {},
   "source": [
    "# ASSIGNMENT 2:\n",
    "Classify the email using the binary classification method. Email Spam detection has two \n",
    "states: a) Normal State – Not Spam, b) Abnormal State – Spam. Use K-Nearest Neighbors and \n",
    "Support Vector Machine for classification. Analyze their performance.\n",
    "Dataset link: The emails.csv dataset on the Kaggle\n",
    "https://www.kaggle.com/datasets/balaka18/email-spam-classification-dataset-csv"
   ]
  },
  {
   "cell_type": "code",
   "execution_count": 1,
   "id": "2529fe97",
   "metadata": {
    "_cell_guid": "b1076dfc-b9ad-4769-8c92-a6c4dae69d19",
    "_uuid": "8f2839f25d086af736a60e9eeb907d3b93b6e0e5",
    "execution": {
     "iopub.execute_input": "2021-12-16T14:50:23.151734Z",
     "iopub.status.busy": "2021-12-16T14:50:23.150453Z",
     "iopub.status.idle": "2021-12-16T14:50:24.751368Z",
     "shell.execute_reply": "2021-12-16T14:50:24.752141Z",
     "shell.execute_reply.started": "2021-12-16T14:39:56.345327Z"
    },
    "papermill": {
     "duration": 1.61793,
     "end_time": "2021-12-16T14:50:24.752508",
     "exception": false,
     "start_time": "2021-12-16T14:50:23.134578",
     "status": "completed"
    },
    "tags": []
   },
   "outputs": [],
   "source": [
    "# This Python 3 environment comes with many helpful analytics libraries installed\n",
    "\n",
    "\n",
    "import numpy as np # linear algebra\n",
    "import pandas as pd # data processing, CSV file I/O (e.g. pd.read_csv)\n",
    "from sklearn.model_selection import train_test_split\n",
    "from sklearn.naive_bayes import MultinomialNB\n",
    "from sklearn.svm import SVC\n",
    "from sklearn.ensemble import RandomForestClassifier\n",
    "from sklearn.metrics import accuracy_score, confusion_matrix, classification_report, RocCurveDisplay\n",
    "from sklearn.model_selection import cross_val_score, cross_val_predict, cross_validate\n",
    "import seaborn as sns\n"
   ]
  },
  {
   "cell_type": "code",
   "execution_count": 2,
   "id": "7355ecb6",
   "metadata": {
    "execution": {
     "iopub.execute_input": "2021-12-16T14:50:24.780924Z",
     "iopub.status.busy": "2021-12-16T14:50:24.780188Z",
     "iopub.status.idle": "2021-12-16T14:50:27.041078Z",
     "shell.execute_reply": "2021-12-16T14:50:27.041590Z",
     "shell.execute_reply.started": "2021-12-16T14:09:47.219088Z"
    },
    "papermill": {
     "duration": 2.276005,
     "end_time": "2021-12-16T14:50:27.041769",
     "exception": false,
     "start_time": "2021-12-16T14:50:24.765764",
     "status": "completed"
    },
    "tags": []
   },
   "outputs": [
    {
     "name": "stdout",
     "output_type": "stream",
     "text": [
      "  Email No.  the  to  ect  and  for  of    a  you  hou  ...  connevey  jay  \\\n",
      "0   Email 1    0   0    1    0    0   0    2    0    0  ...         0    0   \n",
      "1   Email 2    8  13   24    6    6   2  102    1   27  ...         0    0   \n",
      "2   Email 3    0   0    1    0    0   0    8    0    0  ...         0    0   \n",
      "3   Email 4    0   5   22    0    5   1   51    2   10  ...         0    0   \n",
      "4   Email 5    7   6   17    1    5   2   57    0    9  ...         0    0   \n",
      "\n",
      "   valued  lay  infrastructure  military  allowing  ff  dry  Prediction  \n",
      "0       0    0               0         0         0   0    0           0  \n",
      "1       0    0               0         0         0   1    0           0  \n",
      "2       0    0               0         0         0   0    0           0  \n",
      "3       0    0               0         0         0   0    0           0  \n",
      "4       0    0               0         0         0   1    0           0  \n",
      "\n",
      "[5 rows x 3002 columns]\n",
      "       Email No.  the  to  ect  and  for  of    a  you  hou  ...  connevey  \\\n",
      "5167  Email 5168    2   2    2    3    0   0   32    0    0  ...         0   \n",
      "5168  Email 5169   35  27   11    2    6   5  151    4    3  ...         0   \n",
      "5169  Email 5170    0   0    1    1    0   0   11    0    0  ...         0   \n",
      "5170  Email 5171    2   7    1    0    2   1   28    2    0  ...         0   \n",
      "5171  Email 5172   22  24    5    1    6   5  148    8    2  ...         0   \n",
      "\n",
      "      jay  valued  lay  infrastructure  military  allowing  ff  dry  \\\n",
      "5167    0       0    0               0         0         0   0    0   \n",
      "5168    0       0    0               0         0         0   1    0   \n",
      "5169    0       0    0               0         0         0   0    0   \n",
      "5170    0       0    0               0         0         0   1    0   \n",
      "5171    0       0    0               0         0         0   0    0   \n",
      "\n",
      "      Prediction  \n",
      "5167           0  \n",
      "5168           0  \n",
      "5169           1  \n",
      "5170           1  \n",
      "5171           0  \n",
      "\n",
      "[5 rows x 3002 columns]\n"
     ]
    }
   ],
   "source": [
    "df=pd.read_csv('emails.csv')\n",
    "print(df.head(5))\n",
    "print(df.tail(5))"
   ]
  },
  {
   "cell_type": "code",
   "execution_count": 3,
   "id": "22c421a6",
   "metadata": {
    "execution": {
     "iopub.execute_input": "2021-12-16T14:50:27.069352Z",
     "iopub.status.busy": "2021-12-16T14:50:27.068073Z",
     "iopub.status.idle": "2021-12-16T14:50:27.111337Z",
     "shell.execute_reply": "2021-12-16T14:50:27.110704Z",
     "shell.execute_reply.started": "2021-12-16T14:09:49.487894Z"
    },
    "papermill": {
     "duration": 0.057859,
     "end_time": "2021-12-16T14:50:27.111507",
     "exception": false,
     "start_time": "2021-12-16T14:50:27.053648",
     "status": "completed"
    },
    "tags": []
   },
   "outputs": [
    {
     "data": {
      "text/plain": [
       "Email No.     0\n",
       "the           0\n",
       "to            0\n",
       "ect           0\n",
       "and           0\n",
       "             ..\n",
       "military      0\n",
       "allowing      0\n",
       "ff            0\n",
       "dry           0\n",
       "Prediction    0\n",
       "Length: 3002, dtype: int64"
      ]
     },
     "execution_count": 3,
     "metadata": {},
     "output_type": "execute_result"
    }
   ],
   "source": [
    "# Checking for null data. It seems that there is none.\n",
    "df.isnull().sum()"
   ]
  },
  {
   "cell_type": "code",
   "execution_count": 4,
   "id": "752de597",
   "metadata": {
    "execution": {
     "iopub.execute_input": "2021-12-16T14:50:27.140424Z",
     "iopub.status.busy": "2021-12-16T14:50:27.139650Z",
     "iopub.status.idle": "2021-12-16T14:50:27.142607Z",
     "shell.execute_reply": "2021-12-16T14:50:27.141947Z",
     "shell.execute_reply.started": "2021-12-16T14:09:49.533837Z"
    },
    "papermill": {
     "duration": 0.01927,
     "end_time": "2021-12-16T14:50:27.142752",
     "exception": false,
     "start_time": "2021-12-16T14:50:27.123482",
     "status": "completed"
    },
    "tags": []
   },
   "outputs": [],
   "source": [
    "# df.corr(method='pearson')"
   ]
  },
  {
   "cell_type": "code",
   "execution_count": 5,
   "id": "f22dfb73",
   "metadata": {
    "execution": {
     "iopub.execute_input": "2021-12-16T14:50:27.169990Z",
     "iopub.status.busy": "2021-12-16T14:50:27.169347Z",
     "iopub.status.idle": "2021-12-16T14:50:27.325793Z",
     "shell.execute_reply": "2021-12-16T14:50:27.326525Z",
     "shell.execute_reply.started": "2021-12-16T14:09:49.540350Z"
    },
    "papermill": {
     "duration": 0.17198,
     "end_time": "2021-12-16T14:50:27.326723",
     "exception": false,
     "start_time": "2021-12-16T14:50:27.154743",
     "status": "completed"
    },
    "tags": []
   },
   "outputs": [
    {
     "name": "stdout",
     "output_type": "stream",
     "text": [
      "Visualizing ratio Ham/Spam:\n",
      "\n"
     ]
    },
    {
     "data": {
      "text/plain": [
       "<function matplotlib.pyplot.show(close=None, block=None)>"
      ]
     },
     "execution_count": 5,
     "metadata": {},
     "output_type": "execute_result"
    },
    {
     "data": {
      "image/png": "[encoded data removed]",
      "text/plain": [
       "<Figure size 432x288 with 1 Axes>"
      ]
     },
     "metadata": {},
     "output_type": "display_data"
    }
   ],
   "source": [
    "import matplotlib.pyplot as plt\n",
    "print(\"Visualizing ratio Ham/Spam:\\n\")\n",
    "count_Class = pd.value_counts(df['Prediction'], sort=True)\n",
    "# print(count_Class)\n",
    "count_Class.plot(kind = 'pie',labels=['Ham','Spam'], autopct='%1.0f%%,')\n",
    "plt.title('Ham vs Spam')\n",
    "plt.ylabel('')\n",
    "plt.show"
   ]
  },
  {
   "cell_type": "code",
   "execution_count": 6,
   "id": "a6dd931c",
   "metadata": {
    "execution": {
     "iopub.execute_input": "2021-12-16T14:50:27.410600Z",
     "iopub.status.busy": "2021-12-16T14:50:27.409626Z",
     "iopub.status.idle": "2021-12-16T14:50:27.412594Z",
     "shell.execute_reply": "2021-12-16T14:50:27.413087Z",
     "shell.execute_reply.started": "2021-12-16T14:09:49.708488Z"
    },
    "papermill": {
     "duration": 0.073265,
     "end_time": "2021-12-16T14:50:27.413288",
     "exception": false,
     "start_time": "2021-12-16T14:50:27.340023",
     "status": "completed"
    },
    "tags": []
   },
   "outputs": [
    {
     "name": "stdout",
     "output_type": "stream",
     "text": [
      "(5172, 3000)\n",
      "(5172,)\n"
     ]
    }
   ],
   "source": [
    "# Splitting dataframe into features and target.\n",
    "X = df.iloc[:,1:-1]\n",
    "Y = df.iloc[:,-1].values\n",
    "print(X.shape)\n",
    "print(Y.shape)"
   ]
  },
  {
   "cell_type": "code",
   "execution_count": 7,
   "id": "cb145a71",
   "metadata": {
    "execution": {
     "iopub.execute_input": "2021-12-16T14:50:27.476444Z",
     "iopub.status.busy": "2021-12-16T14:50:27.475294Z",
     "iopub.status.idle": "2021-12-16T14:50:27.573084Z",
     "shell.execute_reply": "2021-12-16T14:50:27.573597Z",
     "shell.execute_reply.started": "2021-12-16T14:09:49.766229Z"
    },
    "papermill": {
     "duration": 0.120088,
     "end_time": "2021-12-16T14:50:27.573779",
     "exception": false,
     "start_time": "2021-12-16T14:50:27.453691",
     "status": "completed"
    },
    "tags": []
   },
   "outputs": [],
   "source": [
    "# Splitting data into test and train\n",
    "train_x, test_x, train_y, test_y = train_test_split (X,Y, test_size=0.33, random_state=42)\n",
    "\n",
    "from sklearn.metrics import plot_confusion_matrix,classification_report,plot_precision_recall_curve,plot_roc_curve\n",
    "def report(model):\n",
    "    preds = model.predict(test_x)\n",
    "    print(model.__class__.__name__)\n",
    "    print(\"Score:\",model.score(test_x,test_y))\n",
    "    print(classification_report(preds,test_y))\n",
    "    plot_confusion_matrix(model,test_x,test_y)\n",
    "    plot_precision_recall_curve(model,test_x,test_y)\n",
    "    plot_roc_curve(model,test_x,test_y)\n"
   ]
  },
  {
   "cell_type": "markdown",
   "id": "adda014f",
   "metadata": {},
   "source": [
    "## Naive Bayes"
   ]
  },
  {
   "cell_type": "code",
   "execution_count": 8,
   "id": "44a385f4",
   "metadata": {
    "execution": {
     "iopub.execute_input": "2021-12-16T14:50:27.636467Z",
     "iopub.status.busy": "2021-12-16T14:50:27.624916Z",
     "iopub.status.idle": "2021-12-16T14:50:28.025487Z",
     "shell.execute_reply": "2021-12-16T14:50:28.024866Z",
     "shell.execute_reply.started": "2021-12-16T14:10:40.825902Z"
    },
    "papermill": {
     "duration": 0.438345,
     "end_time": "2021-12-16T14:50:28.025645",
     "exception": false,
     "start_time": "2021-12-16T14:50:27.587300",
     "status": "completed"
    },
    "scrolled": false,
    "tags": []
   },
   "outputs": [
    {
     "name": "stdout",
     "output_type": "stream",
     "text": [
      "              precision    recall  f1-score   support\n",
      "\n",
      "         Ham       0.94      0.98      0.96      1168\n",
      "        Spam       0.96      0.87      0.91       539\n",
      "\n",
      "    accuracy                           0.95      1707\n",
      "   macro avg       0.95      0.93      0.94      1707\n",
      "weighted avg       0.95      0.95      0.95      1707\n",
      "\n",
      "Accuracy score for Naive Bayes:  0.9466900995899239\n"
     ]
    },
    {
     "data": {
      "text/plain": [
       "<AxesSubplot:>"
      ]
     },
     "execution_count": 8,
     "metadata": {},
     "output_type": "execute_result"
    },
    {
     "data": {
      "image/png": "[encoded data removed]",
      "text/plain": [
       "<Figure size 432x288 with 2 Axes>"
      ]
     },
     "metadata": {
      "needs_background": "light"
     },
     "output_type": "display_data"
    }
   ],
   "source": [
    "# Naive Bayes, a weak algorithm.\n",
    "\n",
    "mnb =  MultinomialNB ( alpha = 1.9 )\n",
    "mnb.fit(train_x, train_y)\n",
    "y_predNB = mnb.predict(test_x)\n",
    "target_labels = ['Ham','Spam']\n",
    "print(classification_report(y_predNB, test_y, target_names=target_labels))\n",
    "print(\"Accuracy score for Naive Bayes: \", accuracy_score(y_predNB, test_y))\n",
    "cm = confusion_matrix(test_y, y_predNB)\n",
    "group_names = ['True Neg','False Pos','False Neg','True Pos']\n",
    "group_counts = [\"{0:0.0f}\".format(value) for value in cm.flatten()]\n",
    "\n",
    "labels = [f\"{v1}\\n{v2}\" for v1, v2, in zip(group_names,group_counts)]\n",
    "labels = np.asarray(labels).reshape(2,2)\n",
    "sns.heatmap(cm, annot=labels, fmt='')\n",
    "\n"
   ]
  },
  {
   "cell_type": "markdown",
   "id": "2c5270df",
   "metadata": {},
   "source": [
    "## K-Nearest Neighbors"
   ]
  },
  {
   "cell_type": "code",
   "execution_count": 9,
   "id": "f728ac6b",
   "metadata": {
    "scrolled": true
   },
   "outputs": [
    {
     "data": {
      "text/plain": [
       "KNeighborsClassifier(n_neighbors=2)"
      ]
     },
     "execution_count": 9,
     "metadata": {},
     "output_type": "execute_result"
    }
   ],
   "source": [
    "from sklearn.neighbors import KNeighborsClassifier\n",
    "KNclassifier = KNeighborsClassifier(n_neighbors = 2, metric = 'minkowski', p = 2)\n",
    "KNclassifier.fit(train_x,train_y)"
   ]
  },
  {
   "cell_type": "code",
   "execution_count": 10,
   "id": "5a0fe97f",
   "metadata": {},
   "outputs": [
    {
     "name": "stdout",
     "output_type": "stream",
     "text": [
      "KNeighborsClassifier\n",
      "Score: 0.8711189220855302\n",
      "              precision    recall  f1-score   support\n",
      "\n",
      "           0       0.93      0.89      0.91      1275\n",
      "           1       0.72      0.81      0.76       432\n",
      "\n",
      "    accuracy                           0.87      1707\n",
      "   macro avg       0.82      0.85      0.84      1707\n",
      "weighted avg       0.88      0.87      0.87      1707\n",
      "\n"
     ]
    },
    {
     "data": {
      "image/png": "[encoded data removed]",
      "text/plain": [
       "<Figure size 432x288 with 2 Axes>"
      ]
     },
     "metadata": {
      "needs_background": "light"
     },
     "output_type": "display_data"
    },
    {
     "data": {
      "image/png": "[encoded data removed]",
      "text/plain": [
       "<Figure size 432x288 with 1 Axes>"
      ]
     },
     "metadata": {
      "needs_background": "light"
     },
     "output_type": "display_data"
    },
    {
     "data": {
      "image/png": "[encoded data removed]",
      "text/plain": [
       "<Figure size 432x288 with 1 Axes>"
      ]
     },
     "metadata": {
      "needs_background": "light"
     },
     "output_type": "display_data"
    }
   ],
   "source": [
    "report(KNclassifier)"
   ]
  },
  {
   "cell_type": "markdown",
   "id": "7c112774",
   "metadata": {},
   "source": [
    "## Support vector machines (SVMs)"
   ]
  },
  {
   "cell_type": "code",
   "execution_count": 11,
   "id": "171d5918",
   "metadata": {},
   "outputs": [
    {
     "data": {
      "text/plain": [
       "SVC(gamma='auto', kernel='poly')"
      ]
     },
     "execution_count": 11,
     "metadata": {},
     "output_type": "execute_result"
    }
   ],
   "source": [
    "from sklearn.svm import SVC\n",
    "\n",
    "SVC_classifier=SVC(kernel='poly',gamma='auto',degree=3)\n",
    "\n",
    "SVC_classifier.fit(train_x,train_y)"
   ]
  },
  {
   "cell_type": "code",
   "execution_count": 12,
   "id": "2b57f9fa",
   "metadata": {},
   "outputs": [
    {
     "data": {
      "text/plain": [
       "0.8763913298183948"
      ]
     },
     "execution_count": 12,
     "metadata": {},
     "output_type": "execute_result"
    }
   ],
   "source": [
    "SVC_classifier.score(test_x,test_y)"
   ]
  },
  {
   "cell_type": "code",
   "execution_count": 13,
   "id": "cf8b2dba",
   "metadata": {},
   "outputs": [
    {
     "name": "stdout",
     "output_type": "stream",
     "text": [
      "SVC\n",
      "Score: 0.8763913298183948\n",
      "              precision    recall  f1-score   support\n",
      "\n",
      "           0       0.96      0.88      0.92      1330\n",
      "           1       0.67      0.87      0.76       377\n",
      "\n",
      "    accuracy                           0.88      1707\n",
      "   macro avg       0.81      0.88      0.84      1707\n",
      "weighted avg       0.90      0.88      0.88      1707\n",
      "\n"
     ]
    },
    {
     "data": {
      "image/png": "[encoded data removed]",
      "text/plain": [
       "<Figure size 432x288 with 2 Axes>"
      ]
     },
     "metadata": {
      "needs_background": "light"
     },
     "output_type": "display_data"
    },
    {
     "data": {
      "image/png": "[encoded data removed]",
      "text/plain": [
       "<Figure size 432x288 with 1 Axes>"
      ]
     },
     "metadata": {
      "needs_background": "light"
     },
     "output_type": "display_data"
    },
    {
     "data": {
      "image/png": "[encoded data removed]",
      "text/plain": [
       "<Figure size 432x288 with 1 Axes>"
      ]
     },
     "metadata": {
      "needs_background": "light"
     },
     "output_type": "display_data"
    }
   ],
   "source": [
    "report(SVC_classifier)"
   ]
  },
  {
   "cell_type": "code",
   "execution_count": null,
   "id": "3c3f882b",
   "metadata": {},
   "outputs": [],
   "source": []
  }
 ],
 "metadata": {
  "kernelspec": {
   "display_name": "Python 3 (ipykernel)",
   "language": "python",
   "name": "python3"
  },
  "language_info": {
   "codemirror_mode": {
    "name": "ipython",
    "version": 3
   },
   "file_extension": ".py",
   "mimetype": "text/x-python",
   "name": "python",
   "nbconvert_exporter": "python",
   "pygments_lexer": "ipython3",
   "version": "3.9.7"
  },
  "papermill": {
   "default_parameters": {},
   "duration": 48.833188,
   "end_time": "2021-12-16T14:51:00.485812",
   "environment_variables": {},
   "exception": null,
   "input_path": "__notebook__.ipynb",
   "output_path": "__notebook__.ipynb",
   "parameters": {},
   "start_time": "2021-12-16T14:50:11.652624",
   "version": "2.3.3"
  }
 },
 "nbformat": 4,
 "nbformat_minor": 5
}
